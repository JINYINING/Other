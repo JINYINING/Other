{
 "cells": [
  {
   "cell_type": "code",
   "execution_count": 2,
   "metadata": {},
   "outputs": [],
   "source": [
    "import pandas as pd\n",
    "import numpy as np\n",
    "import seaborn as sns\n",
    "import matplotlib.pyplot as plt\n",
    "import warnings\n",
    "import statsmodels.api as sm\n",
    "warnings.filterwarnings(\"ignore\")"
   ]
  },
  {
   "cell_type": "code",
   "execution_count": 4,
   "metadata": {
    "scrolled": false
   },
   "outputs": [
    {
     "data": {
      "text/html": [
       "<div>\n",
       "<style scoped>\n",
       "    .dataframe tbody tr th:only-of-type {\n",
       "        vertical-align: middle;\n",
       "    }\n",
       "\n",
       "    .dataframe tbody tr th {\n",
       "        vertical-align: top;\n",
       "    }\n",
       "\n",
       "    .dataframe thead th {\n",
       "        text-align: right;\n",
       "    }\n",
       "</style>\n",
       "<table border=\"1\" class=\"dataframe\">\n",
       "  <thead>\n",
       "    <tr style=\"text-align: right;\">\n",
       "      <th></th>\n",
       "      <th>Unnamed: 0</th>\n",
       "      <th>the_transaction_id</th>\n",
       "      <th>the_date_transaction</th>\n",
       "      <th>sku_idr_sku</th>\n",
       "      <th>product_type</th>\n",
       "      <th>sports</th>\n",
       "      <th>but_name_business_unit</th>\n",
       "      <th>ctm_customer_id</th>\n",
       "      <th>the_to_type</th>\n",
       "      <th>f_qty_item</th>\n",
       "      <th>f_to_tax_in</th>\n",
       "    </tr>\n",
       "  </thead>\n",
       "  <tbody>\n",
       "    <tr>\n",
       "      <th>0</th>\n",
       "      <td>1</td>\n",
       "      <td>7-1034-1034-20200708214026-101-8628</td>\n",
       "      <td>2020-07-08 21:40:26</td>\n",
       "      <td>0</td>\n",
       "      <td>NaN</td>\n",
       "      <td>NaN</td>\n",
       "      <td>City Square SG</td>\n",
       "      <td>NaN</td>\n",
       "      <td>offline</td>\n",
       "      <td>0</td>\n",
       "      <td>0.0</td>\n",
       "    </tr>\n",
       "    <tr>\n",
       "      <th>1</th>\n",
       "      <td>2</td>\n",
       "      <td>7-1034-1034-20200708164857-211-1734</td>\n",
       "      <td>2020-07-08 16:48:57</td>\n",
       "      <td>0</td>\n",
       "      <td>NaN</td>\n",
       "      <td>NaN</td>\n",
       "      <td>City Square SG</td>\n",
       "      <td>NaN</td>\n",
       "      <td>offline</td>\n",
       "      <td>0</td>\n",
       "      <td>0.0</td>\n",
       "    </tr>\n",
       "    <tr>\n",
       "      <th>2</th>\n",
       "      <td>3</td>\n",
       "      <td>7-1034-1034-20200701155410-102-6163</td>\n",
       "      <td>2020-07-01 15:54:10</td>\n",
       "      <td>0</td>\n",
       "      <td>NaN</td>\n",
       "      <td>NaN</td>\n",
       "      <td>City Square SG</td>\n",
       "      <td>NaN</td>\n",
       "      <td>offline</td>\n",
       "      <td>0</td>\n",
       "      <td>0.0</td>\n",
       "    </tr>\n",
       "    <tr>\n",
       "      <th>3</th>\n",
       "      <td>4</td>\n",
       "      <td>7-1034-1034-20200713202706-102-7516</td>\n",
       "      <td>2020-07-13 20:27:06</td>\n",
       "      <td>0</td>\n",
       "      <td>NaN</td>\n",
       "      <td>NaN</td>\n",
       "      <td>City Square SG</td>\n",
       "      <td>NaN</td>\n",
       "      <td>offline</td>\n",
       "      <td>0</td>\n",
       "      <td>0.0</td>\n",
       "    </tr>\n",
       "    <tr>\n",
       "      <th>4</th>\n",
       "      <td>5</td>\n",
       "      <td>7-1034-1034-20200727160812-211-4800</td>\n",
       "      <td>2020-07-27 16:08:12</td>\n",
       "      <td>0</td>\n",
       "      <td>NaN</td>\n",
       "      <td>NaN</td>\n",
       "      <td>City Square SG</td>\n",
       "      <td>NaN</td>\n",
       "      <td>offline</td>\n",
       "      <td>0</td>\n",
       "      <td>0.0</td>\n",
       "    </tr>\n",
       "  </tbody>\n",
       "</table>\n",
       "</div>"
      ],
      "text/plain": [
       "   Unnamed: 0                   the_transaction_id the_date_transaction  \\\n",
       "0           1  7-1034-1034-20200708214026-101-8628  2020-07-08 21:40:26   \n",
       "1           2  7-1034-1034-20200708164857-211-1734  2020-07-08 16:48:57   \n",
       "2           3  7-1034-1034-20200701155410-102-6163  2020-07-01 15:54:10   \n",
       "3           4  7-1034-1034-20200713202706-102-7516  2020-07-13 20:27:06   \n",
       "4           5  7-1034-1034-20200727160812-211-4800  2020-07-27 16:08:12   \n",
       "\n",
       "   sku_idr_sku product_type sports but_name_business_unit ctm_customer_id  \\\n",
       "0            0          NaN    NaN         City Square SG             NaN   \n",
       "1            0          NaN    NaN         City Square SG             NaN   \n",
       "2            0          NaN    NaN         City Square SG             NaN   \n",
       "3            0          NaN    NaN         City Square SG             NaN   \n",
       "4            0          NaN    NaN         City Square SG             NaN   \n",
       "\n",
       "  the_to_type  f_qty_item  f_to_tax_in  \n",
       "0     offline           0          0.0  \n",
       "1     offline           0          0.0  \n",
       "2     offline           0          0.0  \n",
       "3     offline           0          0.0  \n",
       "4     offline           0          0.0  "
      ]
     },
     "execution_count": 4,
     "metadata": {},
     "output_type": "execute_result"
    }
   ],
   "source": [
    "df = pd.read_csv(\"/Users/en/Downloads/Recruitment_Transactions_ToBeDistributed.csv\")\n",
    "df.head()"
   ]
  },
  {
   "cell_type": "code",
   "execution_count": 5,
   "metadata": {
    "scrolled": true
   },
   "outputs": [
    {
     "data": {
      "text/plain": [
       "0"
      ]
     },
     "execution_count": 5,
     "metadata": {},
     "output_type": "execute_result"
    }
   ],
   "source": [
    "(df.duplicated()).sum()"
   ]
  },
  {
   "cell_type": "code",
   "execution_count": 6,
   "metadata": {},
   "outputs": [
    {
     "data": {
      "text/plain": [
       "5496751"
      ]
     },
     "execution_count": 6,
     "metadata": {},
     "output_type": "execute_result"
    }
   ],
   "source": [
    "df.shape[0]"
   ]
  },
  {
   "cell_type": "code",
   "execution_count": 10,
   "metadata": {
    "scrolled": true
   },
   "outputs": [
    {
     "data": {
      "text/html": [
       "<div>\n",
       "<style scoped>\n",
       "    .dataframe tbody tr th:only-of-type {\n",
       "        vertical-align: middle;\n",
       "    }\n",
       "\n",
       "    .dataframe tbody tr th {\n",
       "        vertical-align: top;\n",
       "    }\n",
       "\n",
       "    .dataframe thead th {\n",
       "        text-align: right;\n",
       "    }\n",
       "</style>\n",
       "<table border=\"1\" class=\"dataframe\">\n",
       "  <thead>\n",
       "    <tr style=\"text-align: right;\">\n",
       "      <th></th>\n",
       "      <th>Unnamed: 0</th>\n",
       "      <th>the_transaction_id</th>\n",
       "      <th>the_date_transaction</th>\n",
       "      <th>sku_idr_sku</th>\n",
       "      <th>product_type</th>\n",
       "      <th>sports</th>\n",
       "      <th>but_name_business_unit</th>\n",
       "      <th>ctm_customer_id</th>\n",
       "      <th>the_to_type</th>\n",
       "      <th>f_qty_item</th>\n",
       "      <th>f_to_tax_in</th>\n",
       "    </tr>\n",
       "  </thead>\n",
       "  <tbody>\n",
       "    <tr>\n",
       "      <th>0</th>\n",
       "      <td>1</td>\n",
       "      <td>7-1034-1034-20200708214026-101-8628</td>\n",
       "      <td>2020-07-08 21:40:26</td>\n",
       "      <td>0</td>\n",
       "      <td>NaN</td>\n",
       "      <td>NaN</td>\n",
       "      <td>City Square SG</td>\n",
       "      <td>0</td>\n",
       "      <td>offline</td>\n",
       "      <td>0</td>\n",
       "      <td>0.0</td>\n",
       "    </tr>\n",
       "    <tr>\n",
       "      <th>1</th>\n",
       "      <td>2</td>\n",
       "      <td>7-1034-1034-20200708164857-211-1734</td>\n",
       "      <td>2020-07-08 16:48:57</td>\n",
       "      <td>0</td>\n",
       "      <td>NaN</td>\n",
       "      <td>NaN</td>\n",
       "      <td>City Square SG</td>\n",
       "      <td>0</td>\n",
       "      <td>offline</td>\n",
       "      <td>0</td>\n",
       "      <td>0.0</td>\n",
       "    </tr>\n",
       "    <tr>\n",
       "      <th>2</th>\n",
       "      <td>3</td>\n",
       "      <td>7-1034-1034-20200701155410-102-6163</td>\n",
       "      <td>2020-07-01 15:54:10</td>\n",
       "      <td>0</td>\n",
       "      <td>NaN</td>\n",
       "      <td>NaN</td>\n",
       "      <td>City Square SG</td>\n",
       "      <td>0</td>\n",
       "      <td>offline</td>\n",
       "      <td>0</td>\n",
       "      <td>0.0</td>\n",
       "    </tr>\n",
       "    <tr>\n",
       "      <th>3</th>\n",
       "      <td>4</td>\n",
       "      <td>7-1034-1034-20200713202706-102-7516</td>\n",
       "      <td>2020-07-13 20:27:06</td>\n",
       "      <td>0</td>\n",
       "      <td>NaN</td>\n",
       "      <td>NaN</td>\n",
       "      <td>City Square SG</td>\n",
       "      <td>0</td>\n",
       "      <td>offline</td>\n",
       "      <td>0</td>\n",
       "      <td>0.0</td>\n",
       "    </tr>\n",
       "    <tr>\n",
       "      <th>4</th>\n",
       "      <td>5</td>\n",
       "      <td>7-1034-1034-20200727160812-211-4800</td>\n",
       "      <td>2020-07-27 16:08:12</td>\n",
       "      <td>0</td>\n",
       "      <td>NaN</td>\n",
       "      <td>NaN</td>\n",
       "      <td>City Square SG</td>\n",
       "      <td>0</td>\n",
       "      <td>offline</td>\n",
       "      <td>0</td>\n",
       "      <td>0.0</td>\n",
       "    </tr>\n",
       "  </tbody>\n",
       "</table>\n",
       "</div>"
      ],
      "text/plain": [
       "   Unnamed: 0                   the_transaction_id the_date_transaction  \\\n",
       "0           1  7-1034-1034-20200708214026-101-8628  2020-07-08 21:40:26   \n",
       "1           2  7-1034-1034-20200708164857-211-1734  2020-07-08 16:48:57   \n",
       "2           3  7-1034-1034-20200701155410-102-6163  2020-07-01 15:54:10   \n",
       "3           4  7-1034-1034-20200713202706-102-7516  2020-07-13 20:27:06   \n",
       "4           5  7-1034-1034-20200727160812-211-4800  2020-07-27 16:08:12   \n",
       "\n",
       "   sku_idr_sku product_type sports but_name_business_unit ctm_customer_id  \\\n",
       "0            0          NaN    NaN         City Square SG               0   \n",
       "1            0          NaN    NaN         City Square SG               0   \n",
       "2            0          NaN    NaN         City Square SG               0   \n",
       "3            0          NaN    NaN         City Square SG               0   \n",
       "4            0          NaN    NaN         City Square SG               0   \n",
       "\n",
       "  the_to_type  f_qty_item  f_to_tax_in  \n",
       "0     offline           0          0.0  \n",
       "1     offline           0          0.0  \n",
       "2     offline           0          0.0  \n",
       "3     offline           0          0.0  \n",
       "4     offline           0          0.0  "
      ]
     },
     "execution_count": 10,
     "metadata": {},
     "output_type": "execute_result"
    }
   ],
   "source": [
    "# fill 0 for NaN part in ''ctm_customer_id\"\n",
    "df.ctm_customer_id.fillna(0, inplace = True)\n",
    "df.head()"
   ]
  },
  {
   "cell_type": "markdown",
   "metadata": {},
   "source": [
    "A. The average basket size and average basket value of members and non-members per store"
   ]
  },
  {
   "cell_type": "code",
   "execution_count": 11,
   "metadata": {
    "scrolled": true
   },
   "outputs": [
    {
     "data": {
      "text/plain": [
       "array(['City Square SG', 'Joo Koon', 'Website', 'Decathlon Velocity',\n",
       "       'Decathlon Holland Village', 'Singapore Lab', 'Centre Point',\n",
       "       'SunPlaza', 'Waterway Point', 'Tampines Mall', 'Chinatown Point',\n",
       "       'Tiong Bahru Plaza', 'Bedok SG'], dtype=object)"
      ]
     },
     "execution_count": 11,
     "metadata": {},
     "output_type": "execute_result"
    }
   ],
   "source": [
    "df['but_name_business_unit'].unique()"
   ]
  },
  {
   "cell_type": "code",
   "execution_count": 12,
   "metadata": {
    "scrolled": false
   },
   "outputs": [
    {
     "data": {
      "text/plain": [
       "but_name_business_unit\n",
       "Bedok SG                     2.967219\n",
       "Centre Point                 2.961750\n",
       "Chinatown Point              2.949328\n",
       "City Square SG               2.959658\n",
       "Decathlon Holland Village    2.962058\n",
       "Decathlon Velocity           2.959630\n",
       "Joo Koon                     2.965076\n",
       "Singapore Lab                2.974454\n",
       "SunPlaza                     2.941957\n",
       "Tampines Mall                2.944999\n",
       "Tiong Bahru Plaza            2.956281\n",
       "Waterway Point               2.938148\n",
       "Name: f_qty_item, dtype: float64"
      ]
     },
     "execution_count": 12,
     "metadata": {},
     "output_type": "execute_result"
    }
   ],
   "source": [
    "# members average basket size\n",
    "f_qty_mem_item = df.f_qty_item[(df.the_to_type =='offline') & (df.ctm_customer_id != 0 )]\n",
    "grouped_mem_qty = f_qty_mem_item.groupby(df['but_name_business_unit'])\n",
    "grouped_mem_qty.mean()"
   ]
  },
  {
   "cell_type": "code",
   "execution_count": 13,
   "metadata": {},
   "outputs": [
    {
     "name": "stdout",
     "output_type": "stream",
     "text": [
      "The average basket size for members in different stores are indicated above \n"
     ]
    }
   ],
   "source": [
    "print(\"The average basket size for members in different stores are indicated above \")"
   ]
  },
  {
   "cell_type": "code",
   "execution_count": 14,
   "metadata": {
    "scrolled": false
   },
   "outputs": [
    {
     "data": {
      "text/plain": [
       "but_name_business_unit\n",
       "Bedok SG                     61.729600\n",
       "Centre Point                 59.433639\n",
       "Chinatown Point              57.757971\n",
       "City Square SG               60.771859\n",
       "Decathlon Holland Village    63.239374\n",
       "Decathlon Velocity           59.772989\n",
       "Joo Koon                     59.597378\n",
       "Singapore Lab                61.272424\n",
       "SunPlaza                     60.709535\n",
       "Tampines Mall                58.850741\n",
       "Tiong Bahru Plaza            56.974302\n",
       "Waterway Point               60.647169\n",
       "Name: f_to_tax_in, dtype: float64"
      ]
     },
     "execution_count": 14,
     "metadata": {},
     "output_type": "execute_result"
    }
   ],
   "source": [
    "# members average basket value\n",
    "f_tax_mem = df.f_to_tax_in[(df.the_to_type =='offline') & (df.ctm_customer_id != 0 )]\n",
    "grouped_mem_tax = f_tax_mem.groupby(df['but_name_business_unit'])\n",
    "grouped_mem_tax.mean()"
   ]
  },
  {
   "cell_type": "code",
   "execution_count": 15,
   "metadata": {
    "scrolled": true
   },
   "outputs": [
    {
     "name": "stdout",
     "output_type": "stream",
     "text": [
      "The average basket value for members in different stores are indicated above \n"
     ]
    }
   ],
   "source": [
    "print(\"The average basket value for members in different stores are indicated above \")"
   ]
  },
  {
   "cell_type": "code",
   "execution_count": 16,
   "metadata": {
    "scrolled": true
   },
   "outputs": [
    {
     "data": {
      "text/plain": [
       "but_name_business_unit\n",
       "Bedok SG                     2.948943\n",
       "Centre Point                 2.945898\n",
       "Chinatown Point              2.925357\n",
       "City Square SG               2.937751\n",
       "Decathlon Holland Village    2.936667\n",
       "Decathlon Velocity           2.941670\n",
       "Joo Koon                     2.943899\n",
       "Singapore Lab                2.960372\n",
       "SunPlaza                     2.925516\n",
       "Tampines Mall                2.936715\n",
       "Tiong Bahru Plaza            2.937971\n",
       "Waterway Point               2.910174\n",
       "Name: f_qty_item, dtype: float64"
      ]
     },
     "execution_count": 16,
     "metadata": {},
     "output_type": "execute_result"
    }
   ],
   "source": [
    "# non-members average basket size\n",
    "f_qty_non_mem_item = df.f_qty_item[(df.the_to_type =='offline') & (df.ctm_customer_id == 0 )]\n",
    "grouped_non_mem_qty = f_qty_non_mem_item.groupby(df['but_name_business_unit'])\n",
    "grouped_non_mem_qty.mean()"
   ]
  },
  {
   "cell_type": "code",
   "execution_count": 17,
   "metadata": {
    "scrolled": true
   },
   "outputs": [
    {
     "name": "stdout",
     "output_type": "stream",
     "text": [
      "The average basket size for non-members in different stores are indicated above \n"
     ]
    }
   ],
   "source": [
    "print(\"The average basket size for non-members in different stores are indicated above \")"
   ]
  },
  {
   "cell_type": "code",
   "execution_count": 18,
   "metadata": {},
   "outputs": [
    {
     "data": {
      "text/plain": [
       "but_name_business_unit\n",
       "Bedok SG                     61.419650\n",
       "Centre Point                 58.790670\n",
       "Chinatown Point              60.020623\n",
       "City Square SG               60.936726\n",
       "Decathlon Holland Village    64.373703\n",
       "Decathlon Velocity           59.887444\n",
       "Joo Koon                     59.255428\n",
       "Singapore Lab                61.630834\n",
       "SunPlaza                     60.714350\n",
       "Tampines Mall                58.328623\n",
       "Tiong Bahru Plaza            57.523402\n",
       "Waterway Point               62.620201\n",
       "Name: f_to_tax_in, dtype: float64"
      ]
     },
     "execution_count": 18,
     "metadata": {},
     "output_type": "execute_result"
    }
   ],
   "source": [
    "# non-members average basket value\n",
    "f_tax_non_mem = df.f_to_tax_in[(df.the_to_type =='offline') & (df.ctm_customer_id == 0 )]\n",
    "grouped_non_mem_tax = f_tax_non_mem.groupby(df['but_name_business_unit'])\n",
    "grouped_non_mem_tax.mean()"
   ]
  },
  {
   "cell_type": "code",
   "execution_count": 19,
   "metadata": {
    "scrolled": true
   },
   "outputs": [
    {
     "name": "stdout",
     "output_type": "stream",
     "text": [
      "The average basket value for non-members in different stores are indicated above \n"
     ]
    }
   ],
   "source": [
    "print(\"The average basket value for non-members in different stores are indicated above \")"
   ]
  },
  {
   "cell_type": "markdown",
   "metadata": {},
   "source": [
    "B. There are 3 main channels for customers to shop with us :\n",
    "    Experience stores, \n",
    "    C&C stores\n",
    "    and Online. \n",
    "    Find the proportion (in %) of members who shopped at each channel exclusively \n",
    "    as well as the different possible combinations of channels."
   ]
  },
  {
   "cell_type": "code",
   "execution_count": 20,
   "metadata": {
    "scrolled": true
   },
   "outputs": [
    {
     "data": {
      "text/plain": [
       "3437470"
      ]
     },
     "execution_count": 20,
     "metadata": {},
     "output_type": "execute_result"
    }
   ],
   "source": [
    "# total members customer amount\n",
    "total_cus = df.ctm_customer_id[(df.ctm_customer_id != 0 )].count()\n",
    "total_cus"
   ]
  },
  {
   "cell_type": "code",
   "execution_count": 21,
   "metadata": {
    "scrolled": true
   },
   "outputs": [
    {
     "data": {
      "text/html": [
       "<div>\n",
       "<style scoped>\n",
       "    .dataframe tbody tr th:only-of-type {\n",
       "        vertical-align: middle;\n",
       "    }\n",
       "\n",
       "    .dataframe tbody tr th {\n",
       "        vertical-align: top;\n",
       "    }\n",
       "\n",
       "    .dataframe thead th {\n",
       "        text-align: right;\n",
       "    }\n",
       "</style>\n",
       "<table border=\"1\" class=\"dataframe\">\n",
       "  <thead>\n",
       "    <tr style=\"text-align: right;\">\n",
       "      <th></th>\n",
       "      <th>Unnamed: 0</th>\n",
       "      <th>the_transaction_id</th>\n",
       "      <th>the_date_transaction</th>\n",
       "      <th>sku_idr_sku</th>\n",
       "      <th>product_type</th>\n",
       "      <th>sports</th>\n",
       "      <th>but_name_business_unit</th>\n",
       "      <th>ctm_customer_id</th>\n",
       "      <th>the_to_type</th>\n",
       "      <th>f_qty_item</th>\n",
       "      <th>f_to_tax_in</th>\n",
       "    </tr>\n",
       "  </thead>\n",
       "  <tbody>\n",
       "    <tr>\n",
       "      <th>5</th>\n",
       "      <td>6</td>\n",
       "      <td>7-1034-1034-20200712110938-102-7275</td>\n",
       "      <td>2020-07-12 11:09:38</td>\n",
       "      <td>0</td>\n",
       "      <td>NaN</td>\n",
       "      <td>NaN</td>\n",
       "      <td>City Square SG</td>\n",
       "      <td>VP6PDPPUUX</td>\n",
       "      <td>offline</td>\n",
       "      <td>0</td>\n",
       "      <td>0.0</td>\n",
       "    </tr>\n",
       "    <tr>\n",
       "      <th>12</th>\n",
       "      <td>13</td>\n",
       "      <td>7-1034-1034-20200807184137-102-417</td>\n",
       "      <td>2020-08-07 18:41:37</td>\n",
       "      <td>0</td>\n",
       "      <td>NaN</td>\n",
       "      <td>NaN</td>\n",
       "      <td>City Square SG</td>\n",
       "      <td>556733IPSV</td>\n",
       "      <td>offline</td>\n",
       "      <td>0</td>\n",
       "      <td>0.0</td>\n",
       "    </tr>\n",
       "    <tr>\n",
       "      <th>13</th>\n",
       "      <td>14</td>\n",
       "      <td>7-1034-1034-20200703165227-208-4483</td>\n",
       "      <td>2020-07-03 16:52:27</td>\n",
       "      <td>0</td>\n",
       "      <td>NaN</td>\n",
       "      <td>NaN</td>\n",
       "      <td>City Square SG</td>\n",
       "      <td>8TBF10SJ0U</td>\n",
       "      <td>offline</td>\n",
       "      <td>0</td>\n",
       "      <td>0.0</td>\n",
       "    </tr>\n",
       "    <tr>\n",
       "      <th>15</th>\n",
       "      <td>16</td>\n",
       "      <td>7-1034-1034-20200702183935-102-6365</td>\n",
       "      <td>2020-07-02 18:39:35</td>\n",
       "      <td>0</td>\n",
       "      <td>NaN</td>\n",
       "      <td>NaN</td>\n",
       "      <td>City Square SG</td>\n",
       "      <td>34X607907K</td>\n",
       "      <td>offline</td>\n",
       "      <td>0</td>\n",
       "      <td>0.0</td>\n",
       "    </tr>\n",
       "    <tr>\n",
       "      <th>16</th>\n",
       "      <td>17</td>\n",
       "      <td>7-1034-1034-20200705172933-102-6792</td>\n",
       "      <td>2020-07-05 17:29:33</td>\n",
       "      <td>0</td>\n",
       "      <td>NaN</td>\n",
       "      <td>NaN</td>\n",
       "      <td>City Square SG</td>\n",
       "      <td>6GNA8IPJNL</td>\n",
       "      <td>offline</td>\n",
       "      <td>0</td>\n",
       "      <td>0.0</td>\n",
       "    </tr>\n",
       "  </tbody>\n",
       "</table>\n",
       "</div>"
      ],
      "text/plain": [
       "    Unnamed: 0                   the_transaction_id the_date_transaction  \\\n",
       "5            6  7-1034-1034-20200712110938-102-7275  2020-07-12 11:09:38   \n",
       "12          13   7-1034-1034-20200807184137-102-417  2020-08-07 18:41:37   \n",
       "13          14  7-1034-1034-20200703165227-208-4483  2020-07-03 16:52:27   \n",
       "15          16  7-1034-1034-20200702183935-102-6365  2020-07-02 18:39:35   \n",
       "16          17  7-1034-1034-20200705172933-102-6792  2020-07-05 17:29:33   \n",
       "\n",
       "    sku_idr_sku product_type sports but_name_business_unit ctm_customer_id  \\\n",
       "5             0          NaN    NaN         City Square SG      VP6PDPPUUX   \n",
       "12            0          NaN    NaN         City Square SG      556733IPSV   \n",
       "13            0          NaN    NaN         City Square SG      8TBF10SJ0U   \n",
       "15            0          NaN    NaN         City Square SG      34X607907K   \n",
       "16            0          NaN    NaN         City Square SG      6GNA8IPJNL   \n",
       "\n",
       "   the_to_type  f_qty_item  f_to_tax_in  \n",
       "5      offline           0          0.0  \n",
       "12     offline           0          0.0  \n",
       "13     offline           0          0.0  \n",
       "15     offline           0          0.0  \n",
       "16     offline           0          0.0  "
      ]
     },
     "execution_count": 21,
     "metadata": {},
     "output_type": "execute_result"
    }
   ],
   "source": [
    "# Experience stores specifical table (es is short for Experience stores)\n",
    "es = df[df['but_name_business_unit'].isin(['Bedok SG', 'City Square SG', 'Joo Koon', 'Singapore Lab', 'Centre Point']) & df['ctm_customer_id'] != 0]\n",
    "es.head()"
   ]
  },
  {
   "cell_type": "code",
   "execution_count": 22,
   "metadata": {
    "scrolled": false
   },
   "outputs": [
    {
     "data": {
      "text/plain": [
       "2642910"
      ]
     },
     "execution_count": 22,
     "metadata": {},
     "output_type": "execute_result"
    }
   ],
   "source": [
    "# total customers in experience stores\n",
    "es_total_cus = es.ctm_customer_id.count()\n",
    "es_total_cus"
   ]
  },
  {
   "cell_type": "code",
   "execution_count": 23,
   "metadata": {
    "scrolled": true
   },
   "outputs": [
    {
     "data": {
      "text/html": [
       "<div>\n",
       "<style scoped>\n",
       "    .dataframe tbody tr th:only-of-type {\n",
       "        vertical-align: middle;\n",
       "    }\n",
       "\n",
       "    .dataframe tbody tr th {\n",
       "        vertical-align: top;\n",
       "    }\n",
       "\n",
       "    .dataframe thead th {\n",
       "        text-align: right;\n",
       "    }\n",
       "</style>\n",
       "<table border=\"1\" class=\"dataframe\">\n",
       "  <thead>\n",
       "    <tr style=\"text-align: right;\">\n",
       "      <th></th>\n",
       "      <th>Unnamed: 0</th>\n",
       "      <th>the_transaction_id</th>\n",
       "      <th>the_date_transaction</th>\n",
       "      <th>sku_idr_sku</th>\n",
       "      <th>product_type</th>\n",
       "      <th>sports</th>\n",
       "      <th>but_name_business_unit</th>\n",
       "      <th>ctm_customer_id</th>\n",
       "      <th>the_to_type</th>\n",
       "      <th>f_qty_item</th>\n",
       "      <th>f_to_tax_in</th>\n",
       "    </tr>\n",
       "  </thead>\n",
       "  <tbody>\n",
       "    <tr>\n",
       "      <th>210</th>\n",
       "      <td>211</td>\n",
       "      <td>7-1992-1992-20200815120534-101-2428</td>\n",
       "      <td>2020-08-15 12:05:34</td>\n",
       "      <td>0</td>\n",
       "      <td>NaN</td>\n",
       "      <td>NaN</td>\n",
       "      <td>Decathlon Velocity</td>\n",
       "      <td>4FGL04F4YV</td>\n",
       "      <td>offline</td>\n",
       "      <td>0</td>\n",
       "      <td>0.0</td>\n",
       "    </tr>\n",
       "    <tr>\n",
       "      <th>211</th>\n",
       "      <td>212</td>\n",
       "      <td>7-1979-1979-20200721202856-101-5223</td>\n",
       "      <td>2020-07-21 20:28:56</td>\n",
       "      <td>0</td>\n",
       "      <td>NaN</td>\n",
       "      <td>NaN</td>\n",
       "      <td>Decathlon Holland Village</td>\n",
       "      <td>L2OVIR2CXX</td>\n",
       "      <td>offline</td>\n",
       "      <td>0</td>\n",
       "      <td>0.0</td>\n",
       "    </tr>\n",
       "    <tr>\n",
       "      <th>222</th>\n",
       "      <td>223</td>\n",
       "      <td>7-1979-1979-20201025113659-101-7783</td>\n",
       "      <td>2020-10-25 11:36:59</td>\n",
       "      <td>0</td>\n",
       "      <td>NaN</td>\n",
       "      <td>NaN</td>\n",
       "      <td>Decathlon Holland Village</td>\n",
       "      <td>Q4MRGYC6PP</td>\n",
       "      <td>offline</td>\n",
       "      <td>0</td>\n",
       "      <td>0.0</td>\n",
       "    </tr>\n",
       "    <tr>\n",
       "      <th>227</th>\n",
       "      <td>228</td>\n",
       "      <td>7-1979-1979-20200710174446-101-4655</td>\n",
       "      <td>2020-07-10 17:44:46</td>\n",
       "      <td>0</td>\n",
       "      <td>NaN</td>\n",
       "      <td>NaN</td>\n",
       "      <td>Decathlon Holland Village</td>\n",
       "      <td>T8BR4AH1WK</td>\n",
       "      <td>offline</td>\n",
       "      <td>0</td>\n",
       "      <td>0.0</td>\n",
       "    </tr>\n",
       "    <tr>\n",
       "      <th>233</th>\n",
       "      <td>234</td>\n",
       "      <td>7-1992-1992-20201006120824-101-5224</td>\n",
       "      <td>2020-10-06 12:08:24</td>\n",
       "      <td>0</td>\n",
       "      <td>NaN</td>\n",
       "      <td>NaN</td>\n",
       "      <td>Decathlon Velocity</td>\n",
       "      <td>U0P61U7LFS</td>\n",
       "      <td>offline</td>\n",
       "      <td>0</td>\n",
       "      <td>0.0</td>\n",
       "    </tr>\n",
       "  </tbody>\n",
       "</table>\n",
       "</div>"
      ],
      "text/plain": [
       "     Unnamed: 0                   the_transaction_id the_date_transaction  \\\n",
       "210         211  7-1992-1992-20200815120534-101-2428  2020-08-15 12:05:34   \n",
       "211         212  7-1979-1979-20200721202856-101-5223  2020-07-21 20:28:56   \n",
       "222         223  7-1979-1979-20201025113659-101-7783  2020-10-25 11:36:59   \n",
       "227         228  7-1979-1979-20200710174446-101-4655  2020-07-10 17:44:46   \n",
       "233         234  7-1992-1992-20201006120824-101-5224  2020-10-06 12:08:24   \n",
       "\n",
       "     sku_idr_sku product_type sports     but_name_business_unit  \\\n",
       "210            0          NaN    NaN         Decathlon Velocity   \n",
       "211            0          NaN    NaN  Decathlon Holland Village   \n",
       "222            0          NaN    NaN  Decathlon Holland Village   \n",
       "227            0          NaN    NaN  Decathlon Holland Village   \n",
       "233            0          NaN    NaN         Decathlon Velocity   \n",
       "\n",
       "    ctm_customer_id the_to_type  f_qty_item  f_to_tax_in  \n",
       "210      4FGL04F4YV     offline           0          0.0  \n",
       "211      L2OVIR2CXX     offline           0          0.0  \n",
       "222      Q4MRGYC6PP     offline           0          0.0  \n",
       "227      T8BR4AH1WK     offline           0          0.0  \n",
       "233      U0P61U7LFS     offline           0          0.0  "
      ]
     },
     "execution_count": 23,
     "metadata": {},
     "output_type": "execute_result"
    }
   ],
   "source": [
    "# C&C stores specifical table (cc is short for C&C stores)\n",
    "cc = df[df['but_name_business_unit'].isin(['Decathlon Velocity', 'Decathlon Holland Village', 'SunPlaza', \n",
    "                                           'Waterway Point', 'Tampines Mall','Tiong Bahru Plaza','Chinatown Point']) & df['ctm_customer_id'] != 0]\n",
    "cc.head()"
   ]
  },
  {
   "cell_type": "code",
   "execution_count": 24,
   "metadata": {},
   "outputs": [
    {
     "data": {
      "text/plain": [
       "264109"
      ]
     },
     "execution_count": 24,
     "metadata": {},
     "output_type": "execute_result"
    }
   ],
   "source": [
    "# total customers in c&c stores\n",
    "cc_total_cus = cc.ctm_customer_id.count()\n",
    "cc_total_cus"
   ]
  },
  {
   "cell_type": "code",
   "execution_count": 25,
   "metadata": {
    "scrolled": false
   },
   "outputs": [
    {
     "data": {
      "text/html": [
       "<div>\n",
       "<style scoped>\n",
       "    .dataframe tbody tr th:only-of-type {\n",
       "        vertical-align: middle;\n",
       "    }\n",
       "\n",
       "    .dataframe tbody tr th {\n",
       "        vertical-align: top;\n",
       "    }\n",
       "\n",
       "    .dataframe thead th {\n",
       "        text-align: right;\n",
       "    }\n",
       "</style>\n",
       "<table border=\"1\" class=\"dataframe\">\n",
       "  <thead>\n",
       "    <tr style=\"text-align: right;\">\n",
       "      <th></th>\n",
       "      <th>Unnamed: 0</th>\n",
       "      <th>the_transaction_id</th>\n",
       "      <th>the_date_transaction</th>\n",
       "      <th>sku_idr_sku</th>\n",
       "      <th>product_type</th>\n",
       "      <th>sports</th>\n",
       "      <th>but_name_business_unit</th>\n",
       "      <th>ctm_customer_id</th>\n",
       "      <th>the_to_type</th>\n",
       "      <th>f_qty_item</th>\n",
       "      <th>f_to_tax_in</th>\n",
       "    </tr>\n",
       "  </thead>\n",
       "  <tbody>\n",
       "    <tr>\n",
       "      <th>159</th>\n",
       "      <td>160</td>\n",
       "      <td>7-1871-1871-20201007162914-114-5449</td>\n",
       "      <td>2020-10-07 16:29:14</td>\n",
       "      <td>0</td>\n",
       "      <td>NaN</td>\n",
       "      <td>NaN</td>\n",
       "      <td>Website</td>\n",
       "      <td>TM0WVMCD4L</td>\n",
       "      <td>online</td>\n",
       "      <td>0</td>\n",
       "      <td>0.0</td>\n",
       "    </tr>\n",
       "    <tr>\n",
       "      <th>167</th>\n",
       "      <td>168</td>\n",
       "      <td>7-1871-1871-20201007143344-114-5437</td>\n",
       "      <td>2020-10-07 14:33:44</td>\n",
       "      <td>0</td>\n",
       "      <td>NaN</td>\n",
       "      <td>NaN</td>\n",
       "      <td>Website</td>\n",
       "      <td>MNNEJ2H372</td>\n",
       "      <td>online</td>\n",
       "      <td>0</td>\n",
       "      <td>0.0</td>\n",
       "    </tr>\n",
       "    <tr>\n",
       "      <th>475</th>\n",
       "      <td>476</td>\n",
       "      <td>7-2459-2459-20200923214628-102-851</td>\n",
       "      <td>2020-09-23 21:46:28</td>\n",
       "      <td>1718267</td>\n",
       "      <td>NaN</td>\n",
       "      <td>NaN</td>\n",
       "      <td>Website</td>\n",
       "      <td>E1OWOWPT1K</td>\n",
       "      <td>online</td>\n",
       "      <td>5</td>\n",
       "      <td>110.5</td>\n",
       "    </tr>\n",
       "    <tr>\n",
       "      <th>486</th>\n",
       "      <td>487</td>\n",
       "      <td>7-2459-2459-20201122103347-213-664</td>\n",
       "      <td>2020-11-22 10:33:47</td>\n",
       "      <td>0</td>\n",
       "      <td>NaN</td>\n",
       "      <td>NaN</td>\n",
       "      <td>Website</td>\n",
       "      <td>UJTE59D75E</td>\n",
       "      <td>online</td>\n",
       "      <td>0</td>\n",
       "      <td>0.0</td>\n",
       "    </tr>\n",
       "    <tr>\n",
       "      <th>585</th>\n",
       "      <td>586</td>\n",
       "      <td>7-2459-2459-20201013122409-213-235</td>\n",
       "      <td>2020-10-13 12:24:09</td>\n",
       "      <td>0</td>\n",
       "      <td>NaN</td>\n",
       "      <td>NaN</td>\n",
       "      <td>Website</td>\n",
       "      <td>6FYDRC3PGA</td>\n",
       "      <td>online</td>\n",
       "      <td>0</td>\n",
       "      <td>0.0</td>\n",
       "    </tr>\n",
       "  </tbody>\n",
       "</table>\n",
       "</div>"
      ],
      "text/plain": [
       "     Unnamed: 0                   the_transaction_id the_date_transaction  \\\n",
       "159         160  7-1871-1871-20201007162914-114-5449  2020-10-07 16:29:14   \n",
       "167         168  7-1871-1871-20201007143344-114-5437  2020-10-07 14:33:44   \n",
       "475         476   7-2459-2459-20200923214628-102-851  2020-09-23 21:46:28   \n",
       "486         487   7-2459-2459-20201122103347-213-664  2020-11-22 10:33:47   \n",
       "585         586   7-2459-2459-20201013122409-213-235  2020-10-13 12:24:09   \n",
       "\n",
       "     sku_idr_sku product_type sports but_name_business_unit ctm_customer_id  \\\n",
       "159            0          NaN    NaN                Website      TM0WVMCD4L   \n",
       "167            0          NaN    NaN                Website      MNNEJ2H372   \n",
       "475      1718267          NaN    NaN                Website      E1OWOWPT1K   \n",
       "486            0          NaN    NaN                Website      UJTE59D75E   \n",
       "585            0          NaN    NaN                Website      6FYDRC3PGA   \n",
       "\n",
       "    the_to_type  f_qty_item  f_to_tax_in  \n",
       "159      online           0          0.0  \n",
       "167      online           0          0.0  \n",
       "475      online           5        110.5  \n",
       "486      online           0          0.0  \n",
       "585      online           0          0.0  "
      ]
     },
     "execution_count": 25,
     "metadata": {},
     "output_type": "execute_result"
    }
   ],
   "source": [
    "# online stores specifical table \n",
    "online = df[df['but_name_business_unit'].isin(['Website']) & df['ctm_customer_id'] != 0]\n",
    "online.head()"
   ]
  },
  {
   "cell_type": "code",
   "execution_count": 26,
   "metadata": {},
   "outputs": [
    {
     "data": {
      "text/plain": [
       "530451"
      ]
     },
     "execution_count": 26,
     "metadata": {},
     "output_type": "execute_result"
    }
   ],
   "source": [
    "# total customers in online stores\n",
    "online_total_cus = online.ctm_customer_id.count()\n",
    "online_total_cus"
   ]
  },
  {
   "cell_type": "code",
   "execution_count": 27,
   "metadata": {},
   "outputs": [
    {
     "name": "stdout",
     "output_type": "stream",
     "text": [
      "The proportion of members who shopped at Experience stores is 76.89%\n",
      "The proportion of members who shopped at C&C stores is 7.68%\n",
      "The proportion of members who shopped at online stores is 15.43%\n"
     ]
    }
   ],
   "source": [
    "#pop is short for proportion\n",
    "pop_es =  es_total_cus /total_cus\n",
    "print( 'The proportion of members who shopped at Experience stores is' +\" \" + str('%.2f%%' % (pop_es * 100)))\n",
    "\n",
    "pop_cc = cc_total_cus /total_cus\n",
    "print( 'The proportion of members who shopped at C&C stores is' +\" \" + str('%.2f%%' % (pop_cc * 100)))\n",
    "\n",
    "pop_online = online_total_cus /total_cus\n",
    "print( 'The proportion of members who shopped at online stores is' +\" \" + str('%.2f%%' % (pop_online * 100)))"
   ]
  },
  {
   "cell_type": "code",
   "execution_count": 28,
   "metadata": {},
   "outputs": [
    {
     "data": {
      "text/plain": [
       "37864"
      ]
     },
     "execution_count": 28,
     "metadata": {},
     "output_type": "execute_result"
    }
   ],
   "source": [
    "# Both Experience stores and C&C shops \n",
    "es_cc_inner = pd.merge(cc, es,  how='inner' , on ='ctm_customer_id')\n",
    "es_cc = len(list(set(es_cc_inner.ctm_customer_id)))\n",
    "es_cc"
   ]
  },
  {
   "cell_type": "code",
   "execution_count": 29,
   "metadata": {
    "scrolled": false
   },
   "outputs": [
    {
     "data": {
      "text/plain": [
       "44774"
      ]
     },
     "execution_count": 29,
     "metadata": {},
     "output_type": "execute_result"
    }
   ],
   "source": [
    "# Both Experience stores and online shops \n",
    "es_online_inner = pd.merge(es, online ,how='inner' , on ='ctm_customer_id')\n",
    "es_online = len(list(set(es_online_inner.ctm_customer_id)))\n",
    "es_online"
   ]
  },
  {
   "cell_type": "code",
   "execution_count": 30,
   "metadata": {},
   "outputs": [
    {
     "data": {
      "text/plain": [
       "20232"
      ]
     },
     "execution_count": 30,
     "metadata": {},
     "output_type": "execute_result"
    }
   ],
   "source": [
    "# Both C&C stores and online shops \n",
    "cc_online_inner = pd.merge(cc, online ,how='inner' , on ='ctm_customer_id')\n",
    "cc_online = len(list(set(cc_online_inner.ctm_customer_id)))\n",
    "cc_online"
   ]
  },
  {
   "cell_type": "code",
   "execution_count": 31,
   "metadata": {},
   "outputs": [
    {
     "data": {
      "text/plain": [
       "384897"
      ]
     },
     "execution_count": 31,
     "metadata": {},
     "output_type": "execute_result"
    }
   ],
   "source": [
    "# C&C stores, Experience stores and online shops \n",
    "es_cc_online_inner = pd.concat([es,cc,online],ignore_index=True)\n",
    "es_cc_online = len(list(set(es_cc_online_inner.ctm_customer_id)))\n",
    "es_cc_online"
   ]
  },
  {
   "cell_type": "code",
   "execution_count": 32,
   "metadata": {
    "scrolled": true
   },
   "outputs": [
    {
     "name": "stdout",
     "output_type": "stream",
     "text": [
      "The proportion of members who shopped in both Experience stores and C&C shops is 1.10%\n",
      "The proportion of members who shopped in both Experience stores and online stores is 1.30%\n",
      "The proportion of members who shopped in both online stores and C&C shops is 0.59%\n",
      "The proportion of members who shopped in all chnnels( online stores, Experience stores and C&C shops is 11.20%\n"
     ]
    }
   ],
   "source": [
    "pop_es_cc = es_cc / total_cus\n",
    "print( 'The proportion of members who shopped in both Experience stores and C&C shops is' +\" \" + str('%.2f%%' % (pop_es_cc * 100)))\n",
    "\n",
    "pop_es_online = es_online/total_cus\n",
    "print( 'The proportion of members who shopped in both Experience stores and online stores is' +\" \" + str('%.2f%%' % (pop_es_online * 100)))\n",
    "\n",
    "pop_cc_online = cc_online / total_cus\n",
    "print( 'The proportion of members who shopped in both online stores and C&C shops is' +\" \" + str('%.2f%%' % (pop_cc_online * 100)))\n",
    "\n",
    "pop_es_cc_online = es_cc_online / total_cus\n",
    "print( 'The proportion of members who shopped in all chnnels( online stores, Experience stores and C&C shops is' +\" \" \n",
    "      + str('%.2f%%' % (pop_es_cc_online * 100)))"
   ]
  },
  {
   "cell_type": "markdown",
   "metadata": {},
   "source": [
    "C. If there is any timing of the day that is most popular for purchases in stores?"
   ]
  },
  {
   "cell_type": "code",
   "execution_count": 33,
   "metadata": {
    "scrolled": false
   },
   "outputs": [
    {
     "data": {
      "text/plain": [
       "0          21:40:26\n",
       "1          16:48:57\n",
       "2          15:54:10\n",
       "3          20:27:06\n",
       "4          16:08:12\n",
       "             ...   \n",
       "5496746    20:13:12\n",
       "5496747    15:32:54\n",
       "5496748    18:48:07\n",
       "5496749    18:48:07\n",
       "5496750    18:48:07\n",
       "Name: Time, Length: 5496751, dtype: object"
      ]
     },
     "execution_count": 33,
     "metadata": {},
     "output_type": "execute_result"
    }
   ],
   "source": [
    "# I have a soultion but my computer cannot download TimeGrouper,  I've listed it below, too.\n",
    "# df.groupby(pd.Grouper(key='the_transaction_id',freq='2H'))\n",
    "df[['Date','Time']] = df.the_date_transaction.str.split(' ',expand=True) \n",
    "df.Time"
   ]
  },
  {
   "cell_type": "code",
   "execution_count": 38,
   "metadata": {
    "scrolled": true
   },
   "outputs": [
    {
     "ename": "AttributeError",
     "evalue": "'str' object has no attribute 'astype'",
     "output_type": "error",
     "traceback": [
      "\u001b[0;31m---------------------------------------------------------------------------\u001b[0m",
      "\u001b[0;31mAttributeError\u001b[0m                            Traceback (most recent call last)",
      "\u001b[0;32m<ipython-input-38-efa6b223a8a9>\u001b[0m in \u001b[0;36m<module>\u001b[0;34m\u001b[0m\n\u001b[1;32m      2\u001b[0m \u001b[0mtupe\u001b[0m \u001b[0;34m=\u001b[0m \u001b[0;34m[\u001b[0m\u001b[0;36m0\u001b[0m\u001b[0;34m]\u001b[0m\u001b[0;34m*\u001b[0m\u001b[0;36m24\u001b[0m\u001b[0;34m\u001b[0m\u001b[0;34m\u001b[0m\u001b[0m\n\u001b[1;32m      3\u001b[0m \u001b[0;32mfor\u001b[0m \u001b[0mi\u001b[0m \u001b[0;32min\u001b[0m \u001b[0mrange\u001b[0m \u001b[0;34m(\u001b[0m\u001b[0;36m0\u001b[0m\u001b[0;34m,\u001b[0m \u001b[0mlen\u001b[0m\u001b[0;34m(\u001b[0m\u001b[0mdf\u001b[0m\u001b[0;34m.\u001b[0m\u001b[0mTime\u001b[0m\u001b[0;34m)\u001b[0m\u001b[0;34m)\u001b[0m\u001b[0;34m:\u001b[0m\u001b[0;34m\u001b[0m\u001b[0;34m\u001b[0m\u001b[0m\n\u001b[0;32m----> 4\u001b[0;31m     \u001b[0mtupe\u001b[0m\u001b[0;34m[\u001b[0m\u001b[0mdf\u001b[0m\u001b[0;34m.\u001b[0m\u001b[0mTime\u001b[0m\u001b[0;34m[\u001b[0m\u001b[0mi\u001b[0m\u001b[0;34m]\u001b[0m\u001b[0;34m[\u001b[0m\u001b[0;36m0\u001b[0m\u001b[0;34m]\u001b[0m\u001b[0;34m.\u001b[0m\u001b[0mastype\u001b[0m\u001b[0;34m(\u001b[0m\u001b[0;34m'float'\u001b[0m\u001b[0;34m)\u001b[0m\u001b[0;34m]\u001b[0m \u001b[0;34m=\u001b[0m \u001b[0mtupe\u001b[0m\u001b[0;34m[\u001b[0m\u001b[0mdf\u001b[0m\u001b[0;34m.\u001b[0m\u001b[0mTime\u001b[0m\u001b[0;34m[\u001b[0m\u001b[0mi\u001b[0m\u001b[0;34m]\u001b[0m\u001b[0;34m[\u001b[0m\u001b[0;36m0\u001b[0m\u001b[0;34m]\u001b[0m\u001b[0;34m.\u001b[0m\u001b[0mastype\u001b[0m\u001b[0;34m(\u001b[0m\u001b[0;34m'float'\u001b[0m\u001b[0;34m)\u001b[0m\u001b[0;34m]\u001b[0m \u001b[0;34m+\u001b[0m \u001b[0mdf\u001b[0m\u001b[0;34m.\u001b[0m\u001b[0mTime\u001b[0m\u001b[0;34m[\u001b[0m\u001b[0mi\u001b[0m\u001b[0;34m]\u001b[0m\u001b[0;34m[\u001b[0m\u001b[0;36m1\u001b[0m\u001b[0;34m]\u001b[0m\u001b[0;34m\u001b[0m\u001b[0;34m\u001b[0m\u001b[0m\n\u001b[0m\u001b[1;32m      5\u001b[0m \u001b[0mprint\u001b[0m\u001b[0;34m(\u001b[0m\u001b[0mtupe\u001b[0m\u001b[0;34m)\u001b[0m\u001b[0;34m\u001b[0m\u001b[0;34m\u001b[0m\u001b[0m\n\u001b[1;32m      6\u001b[0m \u001b[0mtime\u001b[0m \u001b[0;34m=\u001b[0m \u001b[0;36m0\u001b[0m\u001b[0;34m\u001b[0m\u001b[0;34m\u001b[0m\u001b[0m\n",
      "\u001b[0;31mAttributeError\u001b[0m: 'str' object has no attribute 'astype'"
     ]
    }
   ],
   "source": [
    "i = 0\n",
    "tupe = [0]*24\n",
    "for i in range (0, len(df.Time)):\n",
    "    tupe[df.Time[i][0].astype('float')] = tupe[df.Time[i][0].astype('float')] + df.Time[i][1]\n",
    "print(tupe)\n",
    "time = 0\n",
    "for n in range(0,len(tupe)): \n",
    "    print( \"the clock's %d have %s times\" %(time,tupe[n]))\n",
    "    time = time + 1"
   ]
  },
  {
   "cell_type": "markdown",
   "metadata": {},
   "source": [
    "Part 2: What are the products selling well together?\n",
    "A department manager in charge of yoga is interested to find out what are the products selling well together in relation to yoga products.\n",
    "\n",
    "Describe clearly how you will work on this problem and what are the kind of insights you would draw from it. Coding for this part is optional."
   ]
  },
  {
   "cell_type": "code",
   "execution_count": 29,
   "metadata": {},
   "outputs": [],
   "source": [
    "# STEP1 : find transcations of customers who buy yoga products (by using contain.str or other methods)\n",
    "# STEP2:  Extract several useful columns from the step1 table \n",
    "# STEP3: try to find out what other things they buy when they buy yoga products\n",
    "# STEP4: Try to calcaute the correlation of these products with YOGA products\n",
    "# STEP5 : If we find a strong corrlearion  between one product with YOGA products, we can put them together"
   ]
  },
  {
   "cell_type": "code",
   "execution_count": 30,
   "metadata": {},
   "outputs": [
    {
     "data": {
      "text/plain": [
       "array([nan, 'UNDEFINED', 'SHOES', 'WATER BAG', 'SUNGLASSES',\n",
       "       'WATER BOTTLE', 'SHORTS', 'SKORT', 'WATER BOTTLE BE', 'CAP',\n",
       "       'RUNNING MID TIG', 'RUNNING LONG TI', 'T-SHIRT', 'WATER POUCH',\n",
       "       'GAITERS', 'CUP', 'HEADLAMP', 'WINDBREAKER', 'LONG-SLEEVED T-',\n",
       "       'RUNNING 3/4 TIG', 'SKIRT', 'QUIVER', 'TANK', 'CLIMBING SLIPPE',\n",
       "       'CLIMBING CHALK', 'SNAP HOOK', 'HARNESS', 'BRUSH', 'TROUSERS',\n",
       "       'QUICKDRAW', 'CLIMBING ACCESS', 'MITTENS', 'CHALK BAG', 'SLIPPERS',\n",
       "       'BACKPACK', 'CLIMBING LANYAR', 'GLOVES', 'CLIMBING ROPE', 'HELMET',\n",
       "       'LEGGINGS', 'SLACKLINE', 'SPORTS BAG', 'BELAY GLASSES',\n",
       "       'BELAY DEVICE', 'CLIMBING HOLD', 'SLING', 'BERMUDA SHORTS',\n",
       "       'VIA FERRATA LAN', 'YOGA MAT', 'YOGA BLOCK', 'MAT CLEANER',\n",
       "       'NON SLIP TOWEL', 'SPORTS BRA', 'CROPPED LEGGING', 'STORAGE COVER',\n",
       "       'SOCKS', 'QUICKDRAW SLING', 'PAD', 'CLAMPING STRAP', 'PILLOW',\n",
       "       'BOLSTER', 'KITE', 'HANDLE', 'REPAIR KIT', 'BOARDBAG', 'HAND PUMP',\n",
       "       'NET TABLE TENNI', 'TABLE TENNIS BA', 'BLADE CLEANER',\n",
       "       'TABLE TENNIS TA', 'PROTECTION', 'BASKET BALL', 'BASKETBALL NET',\n",
       "       'KNEE SUPPORT', 'TIGHTS', 'WRIST SUPPORT', 'NET',\n",
       "       'ANKLE BRACE SUP', 'ELBOW SUPPORT', 'KINESIOLOGY TAP',\n",
       "       'LUMBAR BELT', 'SLEEVELESS T-SH', 'FINGER SUPPORT',\n",
       "       'SUPPORT STRIP', 'THUMB SUPPORT', 'SHOULDER BRACE', 'ELBOW GUARD',\n",
       "       'BASE LAYER', 'CALF SUPPORT', 'KNEE PAD', 'NETBALL BALL',\n",
       "       'HEADBAND', 'HOOP', 'THIGH BRACE SUP', 'COACHING FOLDER',\n",
       "       'UNDERSHORTS', 'BINDING', 'BAG', 'BIKINI BOTTOM', 'BIKINI TOP',\n",
       "       'BOARDSHORTS', 'SURF SHORTY WET', 'TOP', 'FLIP-FLOPS',\n",
       "       '1-PIECE SWIMSUI', 'FLYING DISC', 'BOOMERANG', 'HAT',\n",
       "       'CHANGING ROBE', 'BIKINI', 'TOWEL', 'WAX', 'SANDALS',\n",
       "       '2 PIECES SWIMSU', 'BODY-BOARD', 'LEASH', 'SURFBOARD', 'SUIT',\n",
       "       'SURF WETSUIT', 'SKIMBOARD', 'FIN', 'BUOYANCY VEST',\n",
       "       'NEOPRENE TOP', 'WAKEBOARD', 'PARASOL', 'RUGBY BALL',\n",
       "       'COMPRESSION SUP', 'SHORT-SLEEVE JE', 'MOUTHGUARD', 'RUGBY BOOTS',\n",
       "       'BODY ARMOUR', 'COLD PACK', 'SLEEVELESS JERS', 'ADHESIVE TAPE',\n",
       "       'ICE BAG', 'SET', 'TEE', 'RUGBY POLES', 'CARRY CASE',\n",
       "       'BOXING HAND WRA', 'BOXING GLOVES', 'BALL', 'INNER GLOVES',\n",
       "       'FOCUS PAD', 'SHINGUARD', 'SHIELD', 'GROIN GUARD',\n",
       "       'GRAPPLING GLOVE', 'PUNCH BAG', 'GLOVE DRYER', 'ELASTIC TRAININ',\n",
       "       'BAG SUPPORT', 'SHIN AND FOOT G', 'ANKLE BRACE', 'CRICKET BAT',\n",
       "       'LONG-SLEEVED SH', 'SHORT-SLEEVED P', 'BASEBALL BAT',\n",
       "       'BODY PROTECTOR', 'SLEEVE', 'GRIP', 'TIGHTENING CLAM', 'SERVICE',\n",
       "       'BRAKE', 'FOLDING SYSTEM', 'KAYAK', 'RIM STRIP', 'WORKSHOP PRODUC',\n",
       "       'WHEEL AXLE', 'WHEEL', 'INFLATABLE VALV', 'BLADDER', 'KAYAK FLOOR',\n",
       "       'FOAM PAD', 'HEART RATE MONI', 'BADMINTON RACKE',\n",
       "       'FEATHER SHUTTLE', 'PLASTIC SHUTTLE', 'BADMINTON NET', 'GRIP TAPE',\n",
       "       'RACKET STRINGIN', 'DRESS', 'WATERPROOF BAG', 'PADDLE',\n",
       "       'WATERTIGHT POCK', 'NEOPRENE BOOTIE', 'SEAT PAD', 'ELECTRIC PUMP',\n",
       "       'STAND UP PADDLE', 'WATERTIGHT BOX', 'KAYAK SPRAY SKI',\n",
       "       'WATERTIGHT CONT', 'SWIM TOP', 'BUOYANCY BELT', 'SWIMMING GLOVES',\n",
       "       'WEIGHT', 'SWIM BOTTOM', 'DUMBBELL', 'AQUASHOES', 'FOAM ROLLER',\n",
       "       'HANDGRIP', 'BALANCE BOARD', 'WEIGHT PLATE', 'BARBELL PAD',\n",
       "       'LIFTING STRAP', 'ELASTIC', 'MASSAGE BALL', 'SHAKER',\n",
       "       'PUSH UP BAR', 'DUMBBELLS KIT', 'KETTLEBELL', 'WEIGHT LOCK',\n",
       "       'GYMNASTICS GRIP', 'TRACTION BAR', 'GLIDING DISC', 'WEIGHTED VEST',\n",
       "       'SKIPPING ROPE', 'WEIGHTED BELT', 'BAR', 'ELASTIC BAND',\n",
       "       'ANKLE STRAP', 'RING', 'SHORT-SLEEVED S', 'SUSPENSION STRA',\n",
       "       'DIPS STATION', 'ROPE', 'PRESS BENCH', 'ABDOMINAL WHEEL', 'KIT',\n",
       "       'FITNESS TOWER', 'WEIGHTLIFTING BUMPER DISC', 'SQUAT RACK',\n",
       "       'MEDICINE BALL', 'PLYO BOX', 'WEIGHTLIFTING BAR',\n",
       "       'WEIGHT TRAINING', 'MULTI-FUNCTION', 'HOME GYM', 'TRICEPS ROPE',\n",
       "       'FITNESS MAT', 'BAR RACK', 'FLASH LIGHT', 'ARM GUARD', 'WATCH',\n",
       "       'EARPHONE', 'CALF COMPRESSIO', 'SHOE BAG', 'DYNAMO LIGHT', 'GPS',\n",
       "       'POUCH', 'LAMP', 'BELT', 'STRAP', 'JACKET', 'RUNNING SHORT T',\n",
       "       'MP3 PLAYER', 'CHEST LAMP', 'REFLECTIVE ARMB', 'STOPWATCH',\n",
       "       'TRACK SHOES', 'SPIKE WRENCH', 'JERSEY', 'ATHLETICS SPIKE',\n",
       "       'HOCKEY STICK', 'HOCKEY GLOVE', 'SHAMMY', 'INNER TUBE',\n",
       "       'SEAT POST CLAMP', 'LUBRICANT', 'STEM', 'MULTI-TOOL', 'BRAKE PADS',\n",
       "       'STEM CAP', 'DERAILLEUR CABL', 'SADDLE COVER', 'BIKE SADDLE',\n",
       "       'TOOLBOX', 'BRAKE LEVER', 'TYRE LEVER', 'CYCLE RACK', 'BIKE RACK',\n",
       "       'CHAIN', 'BRAKE PAD', 'BRAKE CABLE END', 'QUICK RELEASE C',\n",
       "       'GEAR SHIFTER', 'BRAKE CABLE', 'FRAME PROTECTIO', 'GUIDE PIPE AND',\n",
       "       'DERAILLEUR HOSE', 'CABLE END CAP', 'WORKSHOP STAND',\n",
       "       'HANDLEBAR CAP', 'TOOL CASE', 'SEATPOST', 'TRANSPORT COVER',\n",
       "       'DEGREASER', 'CHAIN TOOL', 'CABLE AND HOUSI', 'FREE WHEEL',\n",
       "       'BAR ENDS', 'DERAILER PROTEC', 'CASSETTE', 'BRAKE CALLIPER',\n",
       "       'BRAKE CABLE AND', 'DERAILLEUR', 'SPACER', 'CHAINSET GUARD',\n",
       "       'BRAKE DISC', 'HANDLEBAR', 'LUBRICATING GRE', 'BIKE HOOK',\n",
       "       'BRAKE KIT', 'BOTTOM BRACKET', 'CHAINSET', 'DERAILLEUR STEM',\n",
       "       'CUSTOMISATION K', 'BIKE CLEANER', 'GOAL', 'SUN HAT',\n",
       "       'SHORT WELLIES', 'BINOCULARS', 'BINOCULAR HARNESS', 'WELLIES',\n",
       "       'KNIFE', 'TRIPOD', 'TELESCOPE.', 'BEACH TENNIS NE',\n",
       "       'BEACH TENNIS RA', 'HOCKEY STICK BA', 'ICE SKATE', 'SKATE GUARDS',\n",
       "       'VOLLEY BALL', 'NET VOLLEYBALL', 'NEOPRENE WETSUI', 'BOTTLE CAGE',\n",
       "       '3/4 CYCLING BIB', 'SADDLE BAG', 'METER MAGNET', 'PADDED CYCLING',\n",
       "       'ROAD BIKE', 'BOTTLE CAGE BOL', 'BEANIE', 'CLIP ON AEROBAR',\n",
       "       'BIKE COMPUTER', 'HANDLEBAR TAPE', 'PEDAL CLEATS', 'PEDAL',\n",
       "       'WHEEL RISER BLO', 'SMARTPHONE BRACKET HOLDER',\n",
       "       'WATCH BRACKET HOLDER', 'BIB SHORTS', 'BINDINGS MODULE',\n",
       "       'TRIATHLON SUIT', 'HANDLEBAR BAG', 'ADAPTOR', 'TYRE',\n",
       "       'TURBO TRAINER', 'FOAM MAT', 'RAIN JACKET', 'FRAME BAG',\n",
       "       'TRANSITION BAG', 'CYCLING TIGHTS', 'SKATEBOARD', 'CRUISER SKATE',\n",
       "       'LONGBOARD SKATE', 'WAVE BOARD', 'DECK', 'TRUCK', 'SCREWS',\n",
       "       'CUSHION', 'PAD-SKATE', 'PILATES MAT', 'LEGGING 7/8', 'SOFT BALL',\n",
       "       'TONING HANDLE', 'BOXERS', 'PUMP', 'REHABILITATION',\n",
       "       'BALANCE DISC', 'ABS EQUIPMENT', 'WEIGHTED BALL',\n",
       "       'ALIGNEMENT STIC', 'SWEATSHIRT', 'SWISS BALL', 'GYM BALL BASE',\n",
       "       'KICK SCOOTER CO', 'SCOOTER', 'STORAGE RACK', 'STICKER', 'PEGS',\n",
       "       \"KID'S SCOOTER S\", 'BRA', 'STEPPER', 'TRAMPOLINE', 'SCRUNCHY',\n",
       "       'TREADMILL', 'BOTTLE HOLDER', 'STEP', 'EXERCISE BIKE',\n",
       "       'CROSS TRAINER', 'STUDIO BIKE', 'ROWING MACHINE', 'LIFE JACKET',\n",
       "       'BASELAYER BOTTO', 'BOAT ROPES', 'VISOR', 'SQUASH BALL',\n",
       "       'SQUASH RACKET', 'SAFETY GLASSES', 'HALF-POINT', 'BUN KIT',\n",
       "       'LEOTARD', 'WRAP-AROUND TOP', 'SKIRT LEOTARD', 'HIKING POLE',\n",
       "       'RAIN CAPE', 'SLEEVELESS JACK', 'BATTERY', 'BAG COVER', 'TORCH',\n",
       "       'BLISTER PROTECT', 'PADLOCK', 'SURVIVAL BLANKE', 'TRAVEL PILLOW',\n",
       "       'GLOVE LINER', 'LACES', 'CUTLERY', 'CHEST STRAP', 'POLES PADS',\n",
       "       'SLEEPING BAG', 'MATTRESS', 'MOSQUITO NET', 'TRAVEL BAG',\n",
       "       'POWER BANK', 'FASTENING BUCKL', 'TARP', 'CHARGER', 'WASH BAG',\n",
       "       'TENT', 'DOWN JACKET', 'PADDED JACKET', 'COOKSET', 'OVERTROUSERS',\n",
       "       'WINDSHIELD', 'TENT PEGS', 'POLE BASKETS', 'SLEEPING BAG LI',\n",
       "       'SOFTSHELL', 'LONGJOHNS', 'MONEY BELT', 'FIRST-AID KIT',\n",
       "       'GROUNDSHEET', 'TENT CORD', 'TENT POLES', 'AMERICAN FOOT B',\n",
       "       'BASEBALL', 'BAIT PUMP', 'FLOOR PUMP', 'KEEP NET ARM', 'STAND',\n",
       "       'DOODAD STRAPS', 'HAND PUMP HOSE', \"BIKE PUMP'S HEA\",\n",
       "       'HYBRID BIKE', 'MUDGUARD', 'MOUNTAIN BIKE', 'KIMONO BELT',\n",
       "       'LONG-SLEEVED BA', 'NUNCHUKS', 'UNIFORM', 'DOBOK',\n",
       "       'FOOT PROTECTION', 'MASK', 'SNORKEL', 'MASK STRAP',\n",
       "       'COMPUTER COVER', 'SNORKELING SET', 'NEOPRENE SHORTY',\n",
       "       'NEOPRENE SUIT', 'SAFETY BUOYS DI', 'BOOTIES', 'CORRECTIVE LENS',\n",
       "       'BALACLAVA', 'OCTOPUS HOLDER', 'SNORKELING BUOY',\n",
       "       'OBSERVATION BUO', 'LIGHTING ACCESS', 'WINDER', 'DIVING REGULATO',\n",
       "       'COMPASS', 'UNDERWATER SLAT', 'BUOYANCY COMPEN', 'HOOK KNIFE',\n",
       "       'SNORKEL ATTACHM', 'CAMERA MOUNT', 'WEIGHT BELT', 'WRIST LOOP',\n",
       "       'FIN STRAP', 'DIVING MOUTHPIECE', 'ELEVATED PRESSU', 'MANOMETER',\n",
       "       'OCTOPUS', 'SMARTPHONE HOLDER', 'BOXER SHORTS', 'BRIEFS',\n",
       "       'CROPPED TROUSER', 'INSOLES', 'WASH NET', 'BRA EXTENDER',\n",
       "       'CYCLING SHORTS', 'WATER BAG NOZZL', 'TOE-CLIP', 'SNOW BOOTS',\n",
       "       'WATER POLO BALL', 'SWIMSUIT', 'WATER POLO CAP', 'PROTECTIVE COVE',\n",
       "       'PULLOVER', 'TEE BAG', 'GOLF BALL', 'UMBRELLA', 'IRON HEAD COVER',\n",
       "       'PUTTING SET', 'GOLF CHIPPER', 'SLEEVELESS POLO', 'BALL STENCIL',\n",
       "       'GOLF SHOES', 'GOLF BAG', 'ALIGNMENT STICK', 'PUTTER HEAD COV',\n",
       "       'GOLF SINGLE IRO', 'PUTTER', 'BALL MARKER', 'DIVOT TOOL',\n",
       "       'PUTTING MAT', 'BALL COLLECTOR', 'SCORER', 'CHIPPING NET',\n",
       "       'DRIVER', 'TROLLEY', 'PRACTICE MAT', 'RANGEFINDER', 'GOLF SET',\n",
       "       'BALL RETRIEVER', 'HYBRID GOLF CLU', 'PRACTICE NET', 'WEDGE',\n",
       "       'DRIVER HEAD COV', 'SET OF IRONS', 'FAIRWAY WOODS', 'BASKET',\n",
       "       'FOLDING BIKE', 'SAFETY VEST', 'TROUSER CLIP', 'LUGGAGE RACK',\n",
       "       'PEANUT BALL', 'JUMPING BALL', 'SHORT UNITARD', 'TAPE', 'RG CLUB',\n",
       "       'TUNNEL', 'TEE-SHIRT ML', 'GYM MAT', 'PROTECTION KIT',\n",
       "       'INLINE SKATES', 'BEARING', 'CONE', 'WRIST GUARD', 'GIFT CARD',\n",
       "       'TENNIS BALL', 'TENNIS RACKET', 'WRIST', 'MAST', 'ANTI-VIBRATION',\n",
       "       'SPEEDBALL BALL', 'SPEEDBALL RACKE', 'RACKET SPORT BA',\n",
       "       'TENNIS TRAINER', 'BALL NET', 'DEODORANT', 'TENNIS NET',\n",
       "       'TUBE PICKUP', 'BALL BASKET', 'SWIM CAP', 'SWIMMING GOGGLE',\n",
       "       'ANTI-FOGGING', 'LEGSUIT', 'BABY SEAT SWIN', 'KICK BOARD',\n",
       "       'SWIMMING ARMBAND', 'SWIM RING', 'EARPLUG', 'NOSE PLUG',\n",
       "       'SWIM NOODLE', 'FULL BODY SWIMS', 'PULL BUOY', 'SHOWER SHAMPOO',\n",
       "       'DISPOSABLE SWIMMING PANTIES', 'SWIMMING PADDLE', 'SWIM SHORTS',\n",
       "       'SWIM FLOAT BELT', 'SHOWER GEL', 'SWIMMING POOL D', 'SWIM VEST',\n",
       "       'BABY AQUATIC CA', 'CLOGS', 'POOL', 'SWIMMING BUOY', 'JAMMER',\n",
       "       'HAND MASSAGER', 'CEREAL BAR', 'DRINK', 'ENERGY GEL',\n",
       "       'MASSAGE STICK', 'HOT / COLD PACK', 'ANTI-CHAFING CR',\n",
       "       'MASSAGE GEL', 'COMPRESSION SOC', 'SUNSCREEN', 'AFTER SUN LOTIO',\n",
       "       'CAMPING TABLE', 'STOOL', 'FOLDING CHAIR', 'ISOTHERMAL BOTT',\n",
       "       'HEEL PAD', 'FLEECE', 'GLASSES STRAP', 'ISOTHERMAL CASE',\n",
       "       'GLASSES CLIP', 'PLATE', 'BOWL', 'GLASSES CASE', 'KETTLE',\n",
       "       'MAGNIFYING GLAS', 'MONOCULAR', 'MULTIFUNCTION K',\n",
       "       'FIT OVER SUNGLA', 'CLEANSING WIPE', 'FOOD JAR', 'BOTTLE CAP',\n",
       "       'CAMP STOVE', 'DESCRIPTION HOL', 'ORIENTEERING CO', 'LOCK', 'BELL',\n",
       "       'BIKE LIGHT', 'BIKE PANNIER', 'CHILD BIKE SEAT', 'REARVIEW MIRROR',\n",
       "       'BABY SEAT MOUNT', 'URBAN CLASSIC BIKE', 'REFLECTOR',\n",
       "       'BABY CARRIER', 'TOURING BIKE', 'HAND/FOOT-WARME', 'SKI GOGGLES',\n",
       "       'SCARF', 'CRAMPON ANTIBAL', 'RUG', 'HAMMOCK', 'BLANKET', 'CHAIR',\n",
       "       'LANTERN', 'SHOVEL', 'SHELTER', 'COOLER BOX', 'FREEZER PACK',\n",
       "       'JERRYCAN', 'LUNCHBOX', 'CAMP BED', 'STOW POCKET', 'POLE SECTION',\n",
       "       'FOOD BOX', 'SHOWER CABIN', 'SELF-INFLATING', 'SHOWER',\n",
       "       'TENT POLE ELAST', 'MALLET', 'WINDBREAK', 'WASHING-UP BOWL',\n",
       "       'REPAIR TAPE', 'MATTRESS CAP', 'DARTBOARD', 'LEG PADDS', 'ARROW',\n",
       "       'BOW', 'DART', 'DARTS FEATHER', 'BOULES CIRCLE', 'TARGET',\n",
       "       'DART TIP', 'DART SHAFT', 'BOULE', 'JACK', 'DARTBOARD SURRO',\n",
       "       'TARGET FACE', 'BOW STRING', 'PALLET', 'ARROW NOCK', 'BOW SIGHT',\n",
       "       'ARROW REST', 'BOW STABILISER', 'SKITTLES', 'ARROW PULLER',\n",
       "       'FLIP CHART', 'BERGER BUTTON', 'CUE TIPS', 'CUE', 'SKI PANTS',\n",
       "       'FOOT BALL', 'KEEPY UPPY TRAINER', 'CLEATED SHOES',\n",
       "       'FOOTBALL BOOTS', 'FUTSAL SHOES', 'BALL NEEDLE', 'TRAINING LADDER',\n",
       "       'REFEREE CARD', 'WHISTLE CORD', 'SPEED HURDLE', 'GOALKEEPER GLOV',\n",
       "       'WHISTLE', 'FIVE A SIDE FOO', \"CAPTAIN'S ARMBA\", 'MARKER', 'BIB',\n",
       "       'FIELD MARKERS', 'BOTTLE RACK', 'JUGGLING BALLS', 'BREECHES',\n",
       "       'GROOMING BAG', 'JODHPUR BOOTS', 'RIDING BOOTS', 'HOOF PICK',\n",
       "       'HELMET CASE', 'HALF CHAPS', 'WHIP', 'SADDLE PAD',\n",
       "       'OVER REACH BOOT', 'LEAD ROPE RING', 'CURRY COMB',\n",
       "       'BACK PROTECTION', 'COMB', 'HOOF BRUSH', 'STIRRUP LEATHER',\n",
       "       'POLO BANDAGES', 'BRIDLE', 'HALF PADS', 'BRUSHING BOOTS',\n",
       "       'GROOMING BOX', 'REINS', 'FETLOCK BOOTS', 'HEADCOLLAR', 'BITS',\n",
       "       'HORSE SADDLE', 'GIRTH', 'CHILD BIKE', 'BALANCE BIKE',\n",
       "       'PANNIER BAG', 'HORN', 'BIKE STABILISER', 'THREAD', 'PLIERS',\n",
       "       'SWIVEL', 'CLIP', 'LEAD', 'STORAGE BOX', 'HOOKS', 'HARDBAIT',\n",
       "       'MACKEREL FEATHE', 'REEL', 'SPINNER', 'ROD', 'KEEPNET',\n",
       "       'SOFTBAITS', 'SCISSORS', 'JIG HEAD', 'FLOAT', 'SWIVEL CLIP',\n",
       "       'LEADER', 'SURF CASTING SP', 'BRAID FISHING L', 'ROD POD',\n",
       "       'LINE ATTACHMENT', 'FLUOROCARBON FI', 'LURE', 'FEEDER', 'TIP',\n",
       "       'SCALE', 'PEDOMETER', 'WALKING POLES'], dtype=object)"
      ]
     },
     "execution_count": 30,
     "metadata": {},
     "output_type": "execute_result"
    }
   ],
   "source": [
    "# use unique() to see if there are any different types behavior may conclude a wrong conclusion\n",
    "df['product_type'].unique()"
   ]
  },
  {
   "cell_type": "code",
   "execution_count": 31,
   "metadata": {
    "scrolled": true
   },
   "outputs": [
    {
     "data": {
      "text/html": [
       "<div>\n",
       "<style scoped>\n",
       "    .dataframe tbody tr th:only-of-type {\n",
       "        vertical-align: middle;\n",
       "    }\n",
       "\n",
       "    .dataframe tbody tr th {\n",
       "        vertical-align: top;\n",
       "    }\n",
       "\n",
       "    .dataframe thead th {\n",
       "        text-align: right;\n",
       "    }\n",
       "</style>\n",
       "<table border=\"1\" class=\"dataframe\">\n",
       "  <thead>\n",
       "    <tr style=\"text-align: right;\">\n",
       "      <th></th>\n",
       "      <th>Unnamed: 0</th>\n",
       "      <th>the_transaction_id</th>\n",
       "      <th>the_date_transaction</th>\n",
       "      <th>sku_idr_sku</th>\n",
       "      <th>product_type</th>\n",
       "      <th>sports</th>\n",
       "      <th>but_name_business_unit</th>\n",
       "      <th>ctm_customer_id</th>\n",
       "      <th>the_to_type</th>\n",
       "      <th>f_qty_item</th>\n",
       "      <th>f_to_tax_in</th>\n",
       "      <th>Date</th>\n",
       "      <th>Time</th>\n",
       "    </tr>\n",
       "  </thead>\n",
       "  <tbody>\n",
       "    <tr>\n",
       "      <th>28192</th>\n",
       "      <td>28193</td>\n",
       "      <td>7-1034-1034-20200701115845-102-6107</td>\n",
       "      <td>2020-07-01 11:58:45</td>\n",
       "      <td>2024828</td>\n",
       "      <td>YOGA MAT</td>\n",
       "      <td>YOGA</td>\n",
       "      <td>Website</td>\n",
       "      <td>JHI6JH26XA</td>\n",
       "      <td>online</td>\n",
       "      <td>6</td>\n",
       "      <td>70.0</td>\n",
       "      <td>2020-07-01</td>\n",
       "      <td>11:58:45</td>\n",
       "    </tr>\n",
       "    <tr>\n",
       "      <th>28193</th>\n",
       "      <td>28194</td>\n",
       "      <td>7-1034-1034-20200701134436-208-4272</td>\n",
       "      <td>2020-07-01 13:44:36</td>\n",
       "      <td>1603229</td>\n",
       "      <td>YOGA MAT</td>\n",
       "      <td>YOGA</td>\n",
       "      <td>City Square SG</td>\n",
       "      <td>344SZP2JPG</td>\n",
       "      <td>offline</td>\n",
       "      <td>2</td>\n",
       "      <td>13.0</td>\n",
       "      <td>2020-07-01</td>\n",
       "      <td>13:44:36</td>\n",
       "    </tr>\n",
       "    <tr>\n",
       "      <th>28194</th>\n",
       "      <td>28195</td>\n",
       "      <td>7-1034-1034-20200702180041-206-924</td>\n",
       "      <td>2020-07-02 18:00:41</td>\n",
       "      <td>7210026</td>\n",
       "      <td>YOGA BLOCK</td>\n",
       "      <td>YOGA</td>\n",
       "      <td>City Square SG</td>\n",
       "      <td>0</td>\n",
       "      <td>offline</td>\n",
       "      <td>1</td>\n",
       "      <td>36.0</td>\n",
       "      <td>2020-07-02</td>\n",
       "      <td>18:00:41</td>\n",
       "    </tr>\n",
       "    <tr>\n",
       "      <th>28195</th>\n",
       "      <td>28196</td>\n",
       "      <td>7-1034-1034-20200703152700-206-1070</td>\n",
       "      <td>2020-07-03 15:27:00</td>\n",
       "      <td>7134760</td>\n",
       "      <td>YOGA MAT</td>\n",
       "      <td>YOGA</td>\n",
       "      <td>City Square SG</td>\n",
       "      <td>AIWX1ZOCJK</td>\n",
       "      <td>offline</td>\n",
       "      <td>5</td>\n",
       "      <td>223.0</td>\n",
       "      <td>2020-07-03</td>\n",
       "      <td>15:27:00</td>\n",
       "    </tr>\n",
       "    <tr>\n",
       "      <th>28204</th>\n",
       "      <td>28205</td>\n",
       "      <td>7-1034-1034-20200701150403-215-8372</td>\n",
       "      <td>2020-07-01 15:04:03</td>\n",
       "      <td>1603229</td>\n",
       "      <td>YOGA MAT</td>\n",
       "      <td>YOGA</td>\n",
       "      <td>City Square SG</td>\n",
       "      <td>TEGQ560WBE</td>\n",
       "      <td>offline</td>\n",
       "      <td>1</td>\n",
       "      <td>13.0</td>\n",
       "      <td>2020-07-01</td>\n",
       "      <td>15:04:03</td>\n",
       "    </tr>\n",
       "    <tr>\n",
       "      <th>...</th>\n",
       "      <td>...</td>\n",
       "      <td>...</td>\n",
       "      <td>...</td>\n",
       "      <td>...</td>\n",
       "      <td>...</td>\n",
       "      <td>...</td>\n",
       "      <td>...</td>\n",
       "      <td>...</td>\n",
       "      <td>...</td>\n",
       "      <td>...</td>\n",
       "      <td>...</td>\n",
       "      <td>...</td>\n",
       "      <td>...</td>\n",
       "    </tr>\n",
       "    <tr>\n",
       "      <th>134915</th>\n",
       "      <td>134916</td>\n",
       "      <td>7-969-969-20201128154927-203-4026</td>\n",
       "      <td>2020-11-28 15:49:27</td>\n",
       "      <td>1603229</td>\n",
       "      <td>YOGA MAT</td>\n",
       "      <td>YOGA</td>\n",
       "      <td>Bedok SG</td>\n",
       "      <td>3E33SO2XI6</td>\n",
       "      <td>offline</td>\n",
       "      <td>3</td>\n",
       "      <td>13.0</td>\n",
       "      <td>2020-11-28</td>\n",
       "      <td>15:49:27</td>\n",
       "    </tr>\n",
       "    <tr>\n",
       "      <th>134923</th>\n",
       "      <td>134924</td>\n",
       "      <td>7-969-969-20201212194158-209-2350</td>\n",
       "      <td>2020-12-12 19:41:58</td>\n",
       "      <td>1603229</td>\n",
       "      <td>YOGA MAT</td>\n",
       "      <td>YOGA</td>\n",
       "      <td>Bedok SG</td>\n",
       "      <td>0</td>\n",
       "      <td>offline</td>\n",
       "      <td>3</td>\n",
       "      <td>13.0</td>\n",
       "      <td>2020-12-12</td>\n",
       "      <td>19:41:58</td>\n",
       "    </tr>\n",
       "    <tr>\n",
       "      <th>134928</th>\n",
       "      <td>134929</td>\n",
       "      <td>7-969-969-20201216155523-204-5409</td>\n",
       "      <td>2020-12-16 15:55:23</td>\n",
       "      <td>7210026</td>\n",
       "      <td>YOGA BLOCK</td>\n",
       "      <td>YOGA</td>\n",
       "      <td>Bedok SG</td>\n",
       "      <td>0</td>\n",
       "      <td>offline</td>\n",
       "      <td>2</td>\n",
       "      <td>36.0</td>\n",
       "      <td>2020-12-16</td>\n",
       "      <td>15:55:23</td>\n",
       "    </tr>\n",
       "    <tr>\n",
       "      <th>134929</th>\n",
       "      <td>134930</td>\n",
       "      <td>7-969-969-20201216155523-204-5409</td>\n",
       "      <td>2020-12-16 15:55:23</td>\n",
       "      <td>812485</td>\n",
       "      <td>YOGA BLOCK</td>\n",
       "      <td>YOGA</td>\n",
       "      <td>Bedok SG</td>\n",
       "      <td>0</td>\n",
       "      <td>offline</td>\n",
       "      <td>2</td>\n",
       "      <td>30.0</td>\n",
       "      <td>2020-12-16</td>\n",
       "      <td>15:55:23</td>\n",
       "    </tr>\n",
       "    <tr>\n",
       "      <th>134931</th>\n",
       "      <td>134932</td>\n",
       "      <td>7-969-969-20201219172345-212-3484</td>\n",
       "      <td>2020-12-19 17:23:45</td>\n",
       "      <td>7347152</td>\n",
       "      <td>YOGA MAT</td>\n",
       "      <td>YOGA</td>\n",
       "      <td>Bedok SG</td>\n",
       "      <td>GXNZRQ3U9Y</td>\n",
       "      <td>offline</td>\n",
       "      <td>2</td>\n",
       "      <td>79.5</td>\n",
       "      <td>2020-12-19</td>\n",
       "      <td>17:23:45</td>\n",
       "    </tr>\n",
       "  </tbody>\n",
       "</table>\n",
       "<p>53556 rows × 13 columns</p>\n",
       "</div>"
      ],
      "text/plain": [
       "        Unnamed: 0                   the_transaction_id the_date_transaction  \\\n",
       "28192        28193  7-1034-1034-20200701115845-102-6107  2020-07-01 11:58:45   \n",
       "28193        28194  7-1034-1034-20200701134436-208-4272  2020-07-01 13:44:36   \n",
       "28194        28195   7-1034-1034-20200702180041-206-924  2020-07-02 18:00:41   \n",
       "28195        28196  7-1034-1034-20200703152700-206-1070  2020-07-03 15:27:00   \n",
       "28204        28205  7-1034-1034-20200701150403-215-8372  2020-07-01 15:04:03   \n",
       "...            ...                                  ...                  ...   \n",
       "134915      134916    7-969-969-20201128154927-203-4026  2020-11-28 15:49:27   \n",
       "134923      134924    7-969-969-20201212194158-209-2350  2020-12-12 19:41:58   \n",
       "134928      134929    7-969-969-20201216155523-204-5409  2020-12-16 15:55:23   \n",
       "134929      134930    7-969-969-20201216155523-204-5409  2020-12-16 15:55:23   \n",
       "134931      134932    7-969-969-20201219172345-212-3484  2020-12-19 17:23:45   \n",
       "\n",
       "        sku_idr_sku product_type sports but_name_business_unit  \\\n",
       "28192       2024828     YOGA MAT   YOGA                Website   \n",
       "28193       1603229     YOGA MAT   YOGA         City Square SG   \n",
       "28194       7210026   YOGA BLOCK   YOGA         City Square SG   \n",
       "28195       7134760     YOGA MAT   YOGA         City Square SG   \n",
       "28204       1603229     YOGA MAT   YOGA         City Square SG   \n",
       "...             ...          ...    ...                    ...   \n",
       "134915      1603229     YOGA MAT   YOGA               Bedok SG   \n",
       "134923      1603229     YOGA MAT   YOGA               Bedok SG   \n",
       "134928      7210026   YOGA BLOCK   YOGA               Bedok SG   \n",
       "134929       812485   YOGA BLOCK   YOGA               Bedok SG   \n",
       "134931      7347152     YOGA MAT   YOGA               Bedok SG   \n",
       "\n",
       "       ctm_customer_id the_to_type  f_qty_item  f_to_tax_in        Date  \\\n",
       "28192       JHI6JH26XA      online           6         70.0  2020-07-01   \n",
       "28193       344SZP2JPG     offline           2         13.0  2020-07-01   \n",
       "28194                0     offline           1         36.0  2020-07-02   \n",
       "28195       AIWX1ZOCJK     offline           5        223.0  2020-07-03   \n",
       "28204       TEGQ560WBE     offline           1         13.0  2020-07-01   \n",
       "...                ...         ...         ...          ...         ...   \n",
       "134915      3E33SO2XI6     offline           3         13.0  2020-11-28   \n",
       "134923               0     offline           3         13.0  2020-12-12   \n",
       "134928               0     offline           2         36.0  2020-12-16   \n",
       "134929               0     offline           2         30.0  2020-12-16   \n",
       "134931      GXNZRQ3U9Y     offline           2         79.5  2020-12-19   \n",
       "\n",
       "            Time  \n",
       "28192   11:58:45  \n",
       "28193   13:44:36  \n",
       "28194   18:00:41  \n",
       "28195   15:27:00  \n",
       "28204   15:04:03  \n",
       "...          ...  \n",
       "134915  15:49:27  \n",
       "134923  19:41:58  \n",
       "134928  15:55:23  \n",
       "134929  15:55:23  \n",
       "134931  17:23:45  \n",
       "\n",
       "[53556 rows x 13 columns]"
      ]
     },
     "execution_count": 31,
     "metadata": {},
     "output_type": "execute_result"
    }
   ],
   "source": [
    "# output the product_type which contains \"YOGA\"\n",
    "df_YOGA = df.loc[df.product_type.str.contains(\"YOGA\", na=False)]\n",
    "df_YOGA"
   ]
  },
  {
   "cell_type": "code",
   "execution_count": 32,
   "metadata": {
    "scrolled": true
   },
   "outputs": [
    {
     "data": {
      "text/html": [
       "<div>\n",
       "<style scoped>\n",
       "    .dataframe tbody tr th:only-of-type {\n",
       "        vertical-align: middle;\n",
       "    }\n",
       "\n",
       "    .dataframe tbody tr th {\n",
       "        vertical-align: top;\n",
       "    }\n",
       "\n",
       "    .dataframe thead th {\n",
       "        text-align: right;\n",
       "    }\n",
       "</style>\n",
       "<table border=\"1\" class=\"dataframe\">\n",
       "  <thead>\n",
       "    <tr style=\"text-align: right;\">\n",
       "      <th></th>\n",
       "      <th>ctm_customer_id</th>\n",
       "      <th>the_transaction_id</th>\n",
       "      <th>product_type</th>\n",
       "    </tr>\n",
       "  </thead>\n",
       "  <tbody>\n",
       "    <tr>\n",
       "      <th>28192</th>\n",
       "      <td>JHI6JH26XA</td>\n",
       "      <td>7-1034-1034-20200701115845-102-6107</td>\n",
       "      <td>YOGA MAT</td>\n",
       "    </tr>\n",
       "    <tr>\n",
       "      <th>28193</th>\n",
       "      <td>344SZP2JPG</td>\n",
       "      <td>7-1034-1034-20200701134436-208-4272</td>\n",
       "      <td>YOGA MAT</td>\n",
       "    </tr>\n",
       "    <tr>\n",
       "      <th>28194</th>\n",
       "      <td>0</td>\n",
       "      <td>7-1034-1034-20200702180041-206-924</td>\n",
       "      <td>YOGA BLOCK</td>\n",
       "    </tr>\n",
       "    <tr>\n",
       "      <th>28195</th>\n",
       "      <td>AIWX1ZOCJK</td>\n",
       "      <td>7-1034-1034-20200703152700-206-1070</td>\n",
       "      <td>YOGA MAT</td>\n",
       "    </tr>\n",
       "    <tr>\n",
       "      <th>28204</th>\n",
       "      <td>TEGQ560WBE</td>\n",
       "      <td>7-1034-1034-20200701150403-215-8372</td>\n",
       "      <td>YOGA MAT</td>\n",
       "    </tr>\n",
       "    <tr>\n",
       "      <th>...</th>\n",
       "      <td>...</td>\n",
       "      <td>...</td>\n",
       "      <td>...</td>\n",
       "    </tr>\n",
       "    <tr>\n",
       "      <th>134915</th>\n",
       "      <td>3E33SO2XI6</td>\n",
       "      <td>7-969-969-20201128154927-203-4026</td>\n",
       "      <td>YOGA MAT</td>\n",
       "    </tr>\n",
       "    <tr>\n",
       "      <th>134923</th>\n",
       "      <td>0</td>\n",
       "      <td>7-969-969-20201212194158-209-2350</td>\n",
       "      <td>YOGA MAT</td>\n",
       "    </tr>\n",
       "    <tr>\n",
       "      <th>134928</th>\n",
       "      <td>0</td>\n",
       "      <td>7-969-969-20201216155523-204-5409</td>\n",
       "      <td>YOGA BLOCK</td>\n",
       "    </tr>\n",
       "    <tr>\n",
       "      <th>134929</th>\n",
       "      <td>0</td>\n",
       "      <td>7-969-969-20201216155523-204-5409</td>\n",
       "      <td>YOGA BLOCK</td>\n",
       "    </tr>\n",
       "    <tr>\n",
       "      <th>134931</th>\n",
       "      <td>GXNZRQ3U9Y</td>\n",
       "      <td>7-969-969-20201219172345-212-3484</td>\n",
       "      <td>YOGA MAT</td>\n",
       "    </tr>\n",
       "  </tbody>\n",
       "</table>\n",
       "<p>53556 rows × 3 columns</p>\n",
       "</div>"
      ],
      "text/plain": [
       "       ctm_customer_id                   the_transaction_id product_type\n",
       "28192       JHI6JH26XA  7-1034-1034-20200701115845-102-6107     YOGA MAT\n",
       "28193       344SZP2JPG  7-1034-1034-20200701134436-208-4272     YOGA MAT\n",
       "28194                0   7-1034-1034-20200702180041-206-924   YOGA BLOCK\n",
       "28195       AIWX1ZOCJK  7-1034-1034-20200703152700-206-1070     YOGA MAT\n",
       "28204       TEGQ560WBE  7-1034-1034-20200701150403-215-8372     YOGA MAT\n",
       "...                ...                                  ...          ...\n",
       "134915      3E33SO2XI6    7-969-969-20201128154927-203-4026     YOGA MAT\n",
       "134923               0    7-969-969-20201212194158-209-2350     YOGA MAT\n",
       "134928               0    7-969-969-20201216155523-204-5409   YOGA BLOCK\n",
       "134929               0    7-969-969-20201216155523-204-5409   YOGA BLOCK\n",
       "134931      GXNZRQ3U9Y    7-969-969-20201219172345-212-3484     YOGA MAT\n",
       "\n",
       "[53556 rows x 3 columns]"
      ]
     },
     "execution_count": 32,
     "metadata": {},
     "output_type": "execute_result"
    }
   ],
   "source": [
    "# extract some useful cloumns\n",
    "df_yoga_cus = df_YOGA[['ctm_customer_id','the_transaction_id','product_type']]\n",
    "df_yoga_cus"
   ]
  }
 ],
 "metadata": {
  "kernelspec": {
   "display_name": "Python 3",
   "language": "python",
   "name": "python3"
  },
  "language_info": {
   "codemirror_mode": {
    "name": "ipython",
    "version": 3
   },
   "file_extension": ".py",
   "mimetype": "text/x-python",
   "name": "python",
   "nbconvert_exporter": "python",
   "pygments_lexer": "ipython3",
   "version": "3.8.5"
  }
 },
 "nbformat": 4,
 "nbformat_minor": 4
}
