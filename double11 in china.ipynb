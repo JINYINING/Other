{
 "cells": [
  {
   "cell_type": "markdown",
   "metadata": {},
   "source": [
    "https://zhuanlan.zhihu.com/p/348625153"
   ]
  },
  {
   "cell_type": "code",
   "execution_count": 88,
   "metadata": {},
   "outputs": [],
   "source": [
    "import pandas as pd\n",
    "import seaborn as sns\n",
    "import matplotlib.pyplot as plt\n",
    "import warnings\n",
    "import statsmodels.api as sm\n",
    "warnings.filterwarnings(\"ignore\")"
   ]
  },
  {
   "cell_type": "code",
   "execution_count": 89,
   "metadata": {
    "scrolled": true
   },
   "outputs": [
    {
     "data": {
      "text/html": [
       "<div>\n",
       "<style scoped>\n",
       "    .dataframe tbody tr th:only-of-type {\n",
       "        vertical-align: middle;\n",
       "    }\n",
       "\n",
       "    .dataframe tbody tr th {\n",
       "        vertical-align: top;\n",
       "    }\n",
       "\n",
       "    .dataframe thead th {\n",
       "        text-align: right;\n",
       "    }\n",
       "</style>\n",
       "<table border=\"1\" class=\"dataframe\">\n",
       "  <thead>\n",
       "    <tr style=\"text-align: right;\">\n",
       "      <th></th>\n",
       "      <th>update_time</th>\n",
       "      <th>id</th>\n",
       "      <th>title</th>\n",
       "      <th>price</th>\n",
       "      <th>sale_count</th>\n",
       "      <th>comment_count</th>\n",
       "      <th>店名</th>\n",
       "    </tr>\n",
       "  </thead>\n",
       "  <tbody>\n",
       "    <tr>\n",
       "      <th>0</th>\n",
       "      <td>2016/11/14</td>\n",
       "      <td>A18164178225</td>\n",
       "      <td>CHANDO/自然堂 雪域精粹纯粹滋润霜50g 补水保湿 滋润水润面霜</td>\n",
       "      <td>139.0</td>\n",
       "      <td>26719.0</td>\n",
       "      <td>2704.0</td>\n",
       "      <td>自然堂</td>\n",
       "    </tr>\n",
       "    <tr>\n",
       "      <th>1</th>\n",
       "      <td>2016/11/14</td>\n",
       "      <td>A18177105952</td>\n",
       "      <td>CHANDO/自然堂凝时鲜颜肌活乳液120ML 淡化细纹补水滋润专柜正品</td>\n",
       "      <td>194.0</td>\n",
       "      <td>8122.0</td>\n",
       "      <td>1492.0</td>\n",
       "      <td>自然堂</td>\n",
       "    </tr>\n",
       "    <tr>\n",
       "      <th>2</th>\n",
       "      <td>2016/11/14</td>\n",
       "      <td>A18177226992</td>\n",
       "      <td>CHANDO/自然堂活泉保湿修护精华水（滋润型135ml 补水控油爽肤水</td>\n",
       "      <td>99.0</td>\n",
       "      <td>12668.0</td>\n",
       "      <td>589.0</td>\n",
       "      <td>自然堂</td>\n",
       "    </tr>\n",
       "    <tr>\n",
       "      <th>3</th>\n",
       "      <td>2016/11/14</td>\n",
       "      <td>A18178033846</td>\n",
       "      <td>CHANDO/自然堂 男士劲爽控油洁面膏 100g 深层清洁  男士洗面奶</td>\n",
       "      <td>38.0</td>\n",
       "      <td>25805.0</td>\n",
       "      <td>4287.0</td>\n",
       "      <td>自然堂</td>\n",
       "    </tr>\n",
       "    <tr>\n",
       "      <th>4</th>\n",
       "      <td>2016/11/14</td>\n",
       "      <td>A18178045259</td>\n",
       "      <td>CHANDO/自然堂雪域精粹纯粹滋润霜（清爽型）50g补水保湿滋润霜</td>\n",
       "      <td>139.0</td>\n",
       "      <td>5196.0</td>\n",
       "      <td>618.0</td>\n",
       "      <td>自然堂</td>\n",
       "    </tr>\n",
       "    <tr>\n",
       "      <th>5</th>\n",
       "      <td>2016/11/14</td>\n",
       "      <td>A18178129035</td>\n",
       "      <td>自然堂 雪域纯粹滋润洗颜霜 110g  补水保湿  洗面奶女 深层清洁</td>\n",
       "      <td>88.0</td>\n",
       "      <td>42858.0</td>\n",
       "      <td>8426.0</td>\n",
       "      <td>自然堂</td>\n",
       "    </tr>\n",
       "    <tr>\n",
       "      <th>6</th>\n",
       "      <td>2016/11/14</td>\n",
       "      <td>A18178206572</td>\n",
       "      <td>CHANDO/自然堂雪润皙白晶采霜（滋润型）50g 滋润修护面霜 正品</td>\n",
       "      <td>139.0</td>\n",
       "      <td>3027.0</td>\n",
       "      <td>304.0</td>\n",
       "      <td>自然堂</td>\n",
       "    </tr>\n",
       "    <tr>\n",
       "      <th>7</th>\n",
       "      <td>2016/11/14</td>\n",
       "      <td>A18190290933</td>\n",
       "      <td>自然堂 活泉深层净化控油凝露60g 控油补水保湿滋润 活泉精华正品</td>\n",
       "      <td>86.0</td>\n",
       "      <td>6925.0</td>\n",
       "      <td>740.0</td>\n",
       "      <td>自然堂</td>\n",
       "    </tr>\n",
       "    <tr>\n",
       "      <th>8</th>\n",
       "      <td>2016/11/14</td>\n",
       "      <td>A18250630014</td>\n",
       "      <td>CHANDO/自然堂 凝时鲜颜肌活修护精华液35ml 淡化细纹护肤精华</td>\n",
       "      <td>216.0</td>\n",
       "      <td>4649.0</td>\n",
       "      <td>630.0</td>\n",
       "      <td>自然堂</td>\n",
       "    </tr>\n",
       "    <tr>\n",
       "      <th>9</th>\n",
       "      <td>2016/11/14</td>\n",
       "      <td>A18422797881</td>\n",
       "      <td>CHANDO/自然堂活泉保湿精华套装 保湿补水滋润控油面部护理套装</td>\n",
       "      <td>258.0</td>\n",
       "      <td>2293.0</td>\n",
       "      <td>43.0</td>\n",
       "      <td>自然堂</td>\n",
       "    </tr>\n",
       "  </tbody>\n",
       "</table>\n",
       "</div>"
      ],
      "text/plain": [
       "  update_time            id                                  title  price  \\\n",
       "0  2016/11/14  A18164178225    CHANDO/自然堂 雪域精粹纯粹滋润霜50g 补水保湿 滋润水润面霜  139.0   \n",
       "1  2016/11/14  A18177105952   CHANDO/自然堂凝时鲜颜肌活乳液120ML 淡化细纹补水滋润专柜正品  194.0   \n",
       "2  2016/11/14  A18177226992   CHANDO/自然堂活泉保湿修护精华水（滋润型135ml 补水控油爽肤水   99.0   \n",
       "3  2016/11/14  A18178033846  CHANDO/自然堂 男士劲爽控油洁面膏 100g 深层清洁  男士洗面奶   38.0   \n",
       "4  2016/11/14  A18178045259     CHANDO/自然堂雪域精粹纯粹滋润霜（清爽型）50g补水保湿滋润霜  139.0   \n",
       "5  2016/11/14  A18178129035    自然堂 雪域纯粹滋润洗颜霜 110g  补水保湿  洗面奶女 深层清洁   88.0   \n",
       "6  2016/11/14  A18178206572    CHANDO/自然堂雪润皙白晶采霜（滋润型）50g 滋润修护面霜 正品  139.0   \n",
       "7  2016/11/14  A18190290933      自然堂 活泉深层净化控油凝露60g 控油补水保湿滋润 活泉精华正品   86.0   \n",
       "8  2016/11/14  A18250630014    CHANDO/自然堂 凝时鲜颜肌活修护精华液35ml 淡化细纹护肤精华  216.0   \n",
       "9  2016/11/14  A18422797881      CHANDO/自然堂活泉保湿精华套装 保湿补水滋润控油面部护理套装  258.0   \n",
       "\n",
       "   sale_count  comment_count   店名  \n",
       "0     26719.0         2704.0  自然堂  \n",
       "1      8122.0         1492.0  自然堂  \n",
       "2     12668.0          589.0  自然堂  \n",
       "3     25805.0         4287.0  自然堂  \n",
       "4      5196.0          618.0  自然堂  \n",
       "5     42858.0         8426.0  自然堂  \n",
       "6      3027.0          304.0  自然堂  \n",
       "7      6925.0          740.0  自然堂  \n",
       "8      4649.0          630.0  自然堂  \n",
       "9      2293.0           43.0  自然堂  "
      ]
     },
     "execution_count": 89,
     "metadata": {},
     "output_type": "execute_result"
    }
   ],
   "source": [
    "df = pd.read_csv(\"/Users/en/Desktop/双十一淘宝美妆数据.csv\")\n",
    "df.head(10)"
   ]
  },
  {
   "cell_type": "code",
   "execution_count": 90,
   "metadata": {},
   "outputs": [],
   "source": [
    "df.fillna(0, inplace = True)"
   ]
  },
  {
   "cell_type": "code",
   "execution_count": 91,
   "metadata": {
    "scrolled": true
   },
   "outputs": [
    {
     "name": "stdout",
     "output_type": "stream",
     "text": [
      "<class 'pandas.core.frame.DataFrame'>\n",
      "RangeIndex: 27598 entries, 0 to 27597\n",
      "Data columns (total 7 columns):\n",
      " #   Column         Non-Null Count  Dtype  \n",
      "---  ------         --------------  -----  \n",
      " 0   update_time    27598 non-null  object \n",
      " 1   id             27598 non-null  object \n",
      " 2   title          27598 non-null  object \n",
      " 3   price          27598 non-null  float64\n",
      " 4   sale_count     27598 non-null  float64\n",
      " 5   comment_count  27598 non-null  float64\n",
      " 6   店名             27598 non-null  object \n",
      "dtypes: float64(3), object(4)\n",
      "memory usage: 1.5+ MB\n"
     ]
    }
   ],
   "source": [
    "df.info()"
   ]
  },
  {
   "cell_type": "markdown",
   "metadata": {},
   "source": [
    "1.双十一当天销售额在总销售额中占比多少？\n",
    "\n",
    "2.品牌中谁最受欢迎，最受欢迎的商品是哪些？\n",
    "\n",
    "3.对于消费者而言，哪些商品在双十一购买的时候最划算\n",
    "\n",
    "4.哪些品牌参与的话题量最多，应该做出什么样的营销方案来促进消费\n",
    "\n",
    "5.双十一销售TOP1品牌和总销售额TOP1品牌有哪些特点和差异？"
   ]
  },
  {
   "cell_type": "code",
   "execution_count": 10,
   "metadata": {},
   "outputs": [
    {
     "data": {
      "text/plain": [
       "42401926341.58"
      ]
     },
     "execution_count": 10,
     "metadata": {},
     "output_type": "execute_result"
    }
   ],
   "source": [
    "df_all_amt = df.销售额.sum()\n",
    "df_all_amt"
   ]
  },
  {
   "cell_type": "code",
   "execution_count": 12,
   "metadata": {},
   "outputs": [
    {
     "data": {
      "text/plain": [
       "0.07912801251743738"
      ]
     },
     "execution_count": 12,
     "metadata": {},
     "output_type": "execute_result"
    }
   ],
   "source": [
    "pop = df_11_11_amout / df_all_amt\n",
    "pop"
   ]
  },
  {
   "cell_type": "code",
   "execution_count": 37,
   "metadata": {},
   "outputs": [
    {
     "data": {
      "text/html": [
       "<div>\n",
       "<style scoped>\n",
       "    .dataframe tbody tr th:only-of-type {\n",
       "        vertical-align: middle;\n",
       "    }\n",
       "\n",
       "    .dataframe tbody tr th {\n",
       "        vertical-align: top;\n",
       "    }\n",
       "\n",
       "    .dataframe thead th {\n",
       "        text-align: right;\n",
       "    }\n",
       "</style>\n",
       "<table border=\"1\" class=\"dataframe\">\n",
       "  <thead>\n",
       "    <tr style=\"text-align: right;\">\n",
       "      <th></th>\n",
       "      <th>0</th>\n",
       "    </tr>\n",
       "  </thead>\n",
       "  <tbody>\n",
       "    <tr>\n",
       "      <th>0</th>\n",
       "      <td>50</td>\n",
       "    </tr>\n",
       "    <tr>\n",
       "      <th>1</th>\n",
       "      <td>120</td>\n",
       "    </tr>\n",
       "    <tr>\n",
       "      <th>2</th>\n",
       "      <td>135</td>\n",
       "    </tr>\n",
       "    <tr>\n",
       "      <th>3</th>\n",
       "      <td>100</td>\n",
       "    </tr>\n",
       "    <tr>\n",
       "      <th>4</th>\n",
       "      <td>50</td>\n",
       "    </tr>\n",
       "    <tr>\n",
       "      <th>...</th>\n",
       "      <td>...</td>\n",
       "    </tr>\n",
       "    <tr>\n",
       "      <th>27593</th>\n",
       "      <td>11</td>\n",
       "    </tr>\n",
       "    <tr>\n",
       "      <th>27594</th>\n",
       "      <td>11</td>\n",
       "    </tr>\n",
       "    <tr>\n",
       "      <th>27595</th>\n",
       "      <td>11</td>\n",
       "    </tr>\n",
       "    <tr>\n",
       "      <th>27596</th>\n",
       "      <td>11</td>\n",
       "    </tr>\n",
       "    <tr>\n",
       "      <th>27597</th>\n",
       "      <td>11</td>\n",
       "    </tr>\n",
       "  </tbody>\n",
       "</table>\n",
       "<p>27598 rows × 1 columns</p>\n",
       "</div>"
      ],
      "text/plain": [
       "         0\n",
       "0       50\n",
       "1      120\n",
       "2      135\n",
       "3      100\n",
       "4       50\n",
       "...    ...\n",
       "27593   11\n",
       "27594   11\n",
       "27595   11\n",
       "27596   11\n",
       "27597   11\n",
       "\n",
       "[27598 rows x 1 columns]"
      ]
     },
     "execution_count": 37,
     "metadata": {},
     "output_type": "execute_result"
    }
   ],
   "source": [
    "# 正则提取\n",
    "df.商品名称.str.extract('(\\d+)')"
   ]
  },
  {
   "cell_type": "code",
   "execution_count": 92,
   "metadata": {},
   "outputs": [
    {
     "data": {
      "text/plain": [
       "0    18585\n",
       "dtype: int64"
      ]
     },
     "execution_count": 92,
     "metadata": {},
     "output_type": "execute_result"
    }
   ],
   "source": [
    "df.title.str.extract('(\\d+)').count()"
   ]
  },
  {
   "cell_type": "code",
   "execution_count": 93,
   "metadata": {},
   "outputs": [],
   "source": [
    "df['容量'] = df.title.str.extract('(\\d+)')"
   ]
  },
  {
   "cell_type": "code",
   "execution_count": 94,
   "metadata": {},
   "outputs": [
    {
     "data": {
      "text/plain": [
       "update_time      0.000000\n",
       "id               0.000000\n",
       "title            0.000000\n",
       "price            0.000000\n",
       "sale_count       0.000000\n",
       "comment_count    0.000000\n",
       "店名               0.000000\n",
       "容量               0.326582\n",
       "dtype: float64"
      ]
     },
     "execution_count": 94,
     "metadata": {},
     "output_type": "execute_result"
    }
   ],
   "source": [
    "df.isnull().mean()"
   ]
  },
  {
   "cell_type": "code",
   "execution_count": 95,
   "metadata": {},
   "outputs": [
    {
     "data": {
      "text/plain": [
       "0         50.0\n",
       "1        120.0\n",
       "2        135.0\n",
       "3        100.0\n",
       "4         50.0\n",
       "         ...  \n",
       "27593     11.0\n",
       "27594     11.0\n",
       "27595     11.0\n",
       "27596     11.0\n",
       "27597     11.0\n",
       "Name: 容量, Length: 27598, dtype: float64"
      ]
     },
     "execution_count": 95,
     "metadata": {},
     "output_type": "execute_result"
    }
   ],
   "source": [
    "#因为容量这里，缺失值达到30%了，所以可以使用均值填\n",
    "df['容量'] = df['容量'].astype('float')\n",
    "df['容量'] = df['容量'].fillna(df['容量'].mean())\n",
    "df['容量']"
   ]
  },
  {
   "cell_type": "code",
   "execution_count": 96,
   "metadata": {},
   "outputs": [
    {
     "data": {
      "text/html": [
       "<div>\n",
       "<style scoped>\n",
       "    .dataframe tbody tr th:only-of-type {\n",
       "        vertical-align: middle;\n",
       "    }\n",
       "\n",
       "    .dataframe tbody tr th {\n",
       "        vertical-align: top;\n",
       "    }\n",
       "\n",
       "    .dataframe thead th {\n",
       "        text-align: right;\n",
       "    }\n",
       "</style>\n",
       "<table border=\"1\" class=\"dataframe\">\n",
       "  <thead>\n",
       "    <tr style=\"text-align: right;\">\n",
       "      <th></th>\n",
       "      <th>update_time</th>\n",
       "      <th>id</th>\n",
       "      <th>title</th>\n",
       "      <th>price</th>\n",
       "      <th>sale_count</th>\n",
       "      <th>comment_count</th>\n",
       "      <th>店名</th>\n",
       "      <th>容量</th>\n",
       "    </tr>\n",
       "  </thead>\n",
       "  <tbody>\n",
       "    <tr>\n",
       "      <th>3006</th>\n",
       "      <td>2016/11/14</td>\n",
       "      <td>A534195175857</td>\n",
       "      <td>innisfree/悦诗风吟 生机自动眼线笔0.5g 5款选择 防水不晕染</td>\n",
       "      <td>55.0</td>\n",
       "      <td>24464.0</td>\n",
       "      <td>6438.0</td>\n",
       "      <td>悦诗风吟</td>\n",
       "      <td>0.0</td>\n",
       "    </tr>\n",
       "    <tr>\n",
       "      <th>3281</th>\n",
       "      <td>2016/11/13</td>\n",
       "      <td>A534195175857</td>\n",
       "      <td>innisfree/悦诗风吟 生机自动眼线笔0.5g 5款选择 防水不晕染</td>\n",
       "      <td>55.0</td>\n",
       "      <td>24489.0</td>\n",
       "      <td>6406.0</td>\n",
       "      <td>悦诗风吟</td>\n",
       "      <td>0.0</td>\n",
       "    </tr>\n",
       "    <tr>\n",
       "      <th>3557</th>\n",
       "      <td>2016/11/12</td>\n",
       "      <td>A534195175857</td>\n",
       "      <td>innisfree/悦诗风吟 生机自动眼线笔0.5g 5款选择 防水不晕染</td>\n",
       "      <td>55.0</td>\n",
       "      <td>24476.0</td>\n",
       "      <td>6341.0</td>\n",
       "      <td>悦诗风吟</td>\n",
       "      <td>0.0</td>\n",
       "    </tr>\n",
       "    <tr>\n",
       "      <th>3837</th>\n",
       "      <td>2016/11/11</td>\n",
       "      <td>A534195175857</td>\n",
       "      <td>innisfree/悦诗风吟 生机自动眼线笔0.5g 5款选择 防水不晕染</td>\n",
       "      <td>55.0</td>\n",
       "      <td>21944.0</td>\n",
       "      <td>6296.0</td>\n",
       "      <td>悦诗风吟</td>\n",
       "      <td>0.0</td>\n",
       "    </tr>\n",
       "    <tr>\n",
       "      <th>4156</th>\n",
       "      <td>2016/11/10</td>\n",
       "      <td>A534195175857</td>\n",
       "      <td>innisfree/悦诗风吟 生机自动眼线笔0.5g 5款选择 防水不晕染</td>\n",
       "      <td>55.0</td>\n",
       "      <td>15407.0</td>\n",
       "      <td>6259.0</td>\n",
       "      <td>悦诗风吟</td>\n",
       "      <td>0.0</td>\n",
       "    </tr>\n",
       "    <tr>\n",
       "      <th>...</th>\n",
       "      <td>...</td>\n",
       "      <td>...</td>\n",
       "      <td>...</td>\n",
       "      <td>...</td>\n",
       "      <td>...</td>\n",
       "      <td>...</td>\n",
       "      <td>...</td>\n",
       "      <td>...</td>\n",
       "    </tr>\n",
       "    <tr>\n",
       "      <th>25862</th>\n",
       "      <td>2016/11/9</td>\n",
       "      <td>A7765911581</td>\n",
       "      <td>官方佰草集脸部去角质磨砂ū00ml正品温和去角质软化角质</td>\n",
       "      <td>80.0</td>\n",
       "      <td>24100.0</td>\n",
       "      <td>3495.0</td>\n",
       "      <td>佰草集</td>\n",
       "      <td>0.0</td>\n",
       "    </tr>\n",
       "    <tr>\n",
       "      <th>26119</th>\n",
       "      <td>2016/11/8</td>\n",
       "      <td>A7765911581</td>\n",
       "      <td>官方佰草集脸部去角质磨砂ū00ml正品温和去角质软化角质</td>\n",
       "      <td>80.0</td>\n",
       "      <td>24097.0</td>\n",
       "      <td>3507.0</td>\n",
       "      <td>佰草集</td>\n",
       "      <td>0.0</td>\n",
       "    </tr>\n",
       "    <tr>\n",
       "      <th>26374</th>\n",
       "      <td>2016/11/7</td>\n",
       "      <td>A7765911581</td>\n",
       "      <td>官方佰草集脸部去角质磨砂ū00ml正品温和去角质软化角质</td>\n",
       "      <td>80.0</td>\n",
       "      <td>24096.0</td>\n",
       "      <td>3518.0</td>\n",
       "      <td>佰草集</td>\n",
       "      <td>0.0</td>\n",
       "    </tr>\n",
       "    <tr>\n",
       "      <th>26632</th>\n",
       "      <td>2016/11/6</td>\n",
       "      <td>A7765911581</td>\n",
       "      <td>官方佰草集脸部去角质磨砂ū00ml正品温和去角质软化角质</td>\n",
       "      <td>80.0</td>\n",
       "      <td>24093.0</td>\n",
       "      <td>3536.0</td>\n",
       "      <td>佰草集</td>\n",
       "      <td>0.0</td>\n",
       "    </tr>\n",
       "    <tr>\n",
       "      <th>26887</th>\n",
       "      <td>2016/11/5</td>\n",
       "      <td>A7765911581</td>\n",
       "      <td>官方佰草集脸部去角质磨砂ū00ml正品温和去角质软化角质</td>\n",
       "      <td>80.0</td>\n",
       "      <td>24092.0</td>\n",
       "      <td>3543.0</td>\n",
       "      <td>佰草集</td>\n",
       "      <td>0.0</td>\n",
       "    </tr>\n",
       "  </tbody>\n",
       "</table>\n",
       "<p>78 rows × 8 columns</p>\n",
       "</div>"
      ],
      "text/plain": [
       "      update_time             id                                  title  \\\n",
       "3006   2016/11/14  A534195175857  innisfree/悦诗风吟 生机自动眼线笔0.5g 5款选择 防水不晕染   \n",
       "3281   2016/11/13  A534195175857  innisfree/悦诗风吟 生机自动眼线笔0.5g 5款选择 防水不晕染   \n",
       "3557   2016/11/12  A534195175857  innisfree/悦诗风吟 生机自动眼线笔0.5g 5款选择 防水不晕染   \n",
       "3837   2016/11/11  A534195175857  innisfree/悦诗风吟 生机自动眼线笔0.5g 5款选择 防水不晕染   \n",
       "4156   2016/11/10  A534195175857  innisfree/悦诗风吟 生机自动眼线笔0.5g 5款选择 防水不晕染   \n",
       "...           ...            ...                                    ...   \n",
       "25862   2016/11/9    A7765911581           官方佰草集脸部去角质磨砂ū00ml正品温和去角质软化角质   \n",
       "26119   2016/11/8    A7765911581           官方佰草集脸部去角质磨砂ū00ml正品温和去角质软化角质   \n",
       "26374   2016/11/7    A7765911581           官方佰草集脸部去角质磨砂ū00ml正品温和去角质软化角质   \n",
       "26632   2016/11/6    A7765911581           官方佰草集脸部去角质磨砂ū00ml正品温和去角质软化角质   \n",
       "26887   2016/11/5    A7765911581           官方佰草集脸部去角质磨砂ū00ml正品温和去角质软化角质   \n",
       "\n",
       "       price  sale_count  comment_count    店名   容量  \n",
       "3006    55.0     24464.0         6438.0  悦诗风吟  0.0  \n",
       "3281    55.0     24489.0         6406.0  悦诗风吟  0.0  \n",
       "3557    55.0     24476.0         6341.0  悦诗风吟  0.0  \n",
       "3837    55.0     21944.0         6296.0  悦诗风吟  0.0  \n",
       "4156    55.0     15407.0         6259.0  悦诗风吟  0.0  \n",
       "...      ...         ...            ...   ...  ...  \n",
       "25862   80.0     24100.0         3495.0   佰草集  0.0  \n",
       "26119   80.0     24097.0         3507.0   佰草集  0.0  \n",
       "26374   80.0     24096.0         3518.0   佰草集  0.0  \n",
       "26632   80.0     24093.0         3536.0   佰草集  0.0  \n",
       "26887   80.0     24092.0         3543.0   佰草集  0.0  \n",
       "\n",
       "[78 rows x 8 columns]"
      ]
     },
     "execution_count": 96,
     "metadata": {},
     "output_type": "execute_result"
    }
   ],
   "source": [
    "df.loc[df['容量'] == 0]"
   ]
  },
  {
   "cell_type": "code",
   "execution_count": 97,
   "metadata": {},
   "outputs": [],
   "source": [
    "df.drop(df.loc[df['容量'] == 0].index, axis = 0, inplace = True)"
   ]
  },
  {
   "cell_type": "code",
   "execution_count": 98,
   "metadata": {},
   "outputs": [
    {
     "data": {
      "text/html": [
       "<div>\n",
       "<style scoped>\n",
       "    .dataframe tbody tr th:only-of-type {\n",
       "        vertical-align: middle;\n",
       "    }\n",
       "\n",
       "    .dataframe tbody tr th {\n",
       "        vertical-align: top;\n",
       "    }\n",
       "\n",
       "    .dataframe thead th {\n",
       "        text-align: right;\n",
       "    }\n",
       "</style>\n",
       "<table border=\"1\" class=\"dataframe\">\n",
       "  <thead>\n",
       "    <tr style=\"text-align: right;\">\n",
       "      <th></th>\n",
       "      <th>price</th>\n",
       "      <th>sale_count</th>\n",
       "      <th>comment_count</th>\n",
       "      <th>容量</th>\n",
       "    </tr>\n",
       "  </thead>\n",
       "  <tbody>\n",
       "    <tr>\n",
       "      <th>count</th>\n",
       "      <td>27520.000000</td>\n",
       "      <td>2.752000e+04</td>\n",
       "      <td>27520.000000</td>\n",
       "      <td>27520.000000</td>\n",
       "    </tr>\n",
       "    <tr>\n",
       "      <th>mean</th>\n",
       "      <td>363.497779</td>\n",
       "      <td>1.126625e+04</td>\n",
       "      <td>1024.431831</td>\n",
       "      <td>68.898197</td>\n",
       "    </tr>\n",
       "    <tr>\n",
       "      <th>std</th>\n",
       "      <td>614.891120</td>\n",
       "      <td>5.024108e+04</td>\n",
       "      <td>5056.847447</td>\n",
       "      <td>133.937943</td>\n",
       "    </tr>\n",
       "    <tr>\n",
       "      <th>min</th>\n",
       "      <td>1.000000</td>\n",
       "      <td>0.000000e+00</td>\n",
       "      <td>0.000000</td>\n",
       "      <td>1.000000</td>\n",
       "    </tr>\n",
       "    <tr>\n",
       "      <th>25%</th>\n",
       "      <td>99.000000</td>\n",
       "      <td>1.290000e+02</td>\n",
       "      <td>5.000000</td>\n",
       "      <td>11.000000</td>\n",
       "    </tr>\n",
       "    <tr>\n",
       "      <th>50%</th>\n",
       "      <td>205.000000</td>\n",
       "      <td>1.113000e+03</td>\n",
       "      <td>115.000000</td>\n",
       "      <td>68.703471</td>\n",
       "    </tr>\n",
       "    <tr>\n",
       "      <th>75%</th>\n",
       "      <td>390.000000</td>\n",
       "      <td>5.383750e+03</td>\n",
       "      <td>569.000000</td>\n",
       "      <td>68.703471</td>\n",
       "    </tr>\n",
       "    <tr>\n",
       "      <th>max</th>\n",
       "      <td>11100.000000</td>\n",
       "      <td>1.923160e+06</td>\n",
       "      <td>202930.000000</td>\n",
       "      <td>5000.000000</td>\n",
       "    </tr>\n",
       "  </tbody>\n",
       "</table>\n",
       "</div>"
      ],
      "text/plain": [
       "              price    sale_count  comment_count            容量\n",
       "count  27520.000000  2.752000e+04   27520.000000  27520.000000\n",
       "mean     363.497779  1.126625e+04    1024.431831     68.898197\n",
       "std      614.891120  5.024108e+04    5056.847447    133.937943\n",
       "min        1.000000  0.000000e+00       0.000000      1.000000\n",
       "25%       99.000000  1.290000e+02       5.000000     11.000000\n",
       "50%      205.000000  1.113000e+03     115.000000     68.703471\n",
       "75%      390.000000  5.383750e+03     569.000000     68.703471\n",
       "max    11100.000000  1.923160e+06  202930.000000   5000.000000"
      ]
     },
     "execution_count": 98,
     "metadata": {},
     "output_type": "execute_result"
    }
   ],
   "source": [
    "df.describe()"
   ]
  },
  {
   "cell_type": "code",
   "execution_count": 100,
   "metadata": {},
   "outputs": [
    {
     "data": {
      "text/plain": [
       "<AxesSubplot:xlabel='price', ylabel='Density'>"
      ]
     },
     "execution_count": 100,
     "metadata": {},
     "output_type": "execute_result"
    },
    {
     "data": {
      "image/png": "[encoded data removed]",
      "text/plain": [
       "<Figure size 432x288 with 1 Axes>"
      ]
     },
     "metadata": {
      "needs_background": "light"
     },
     "output_type": "display_data"
    }
   ],
   "source": [
    "#价格跨度过大\n",
    "sns.distplot(df.price, bins = 20)"
   ]
  },
  {
   "cell_type": "code",
   "execution_count": 101,
   "metadata": {
    "scrolled": true
   },
   "outputs": [
    {
     "data": {
      "text/html": [
       "<div>\n",
       "<style scoped>\n",
       "    .dataframe tbody tr th:only-of-type {\n",
       "        vertical-align: middle;\n",
       "    }\n",
       "\n",
       "    .dataframe tbody tr th {\n",
       "        vertical-align: top;\n",
       "    }\n",
       "\n",
       "    .dataframe thead th {\n",
       "        text-align: right;\n",
       "    }\n",
       "</style>\n",
       "<table border=\"1\" class=\"dataframe\">\n",
       "  <thead>\n",
       "    <tr style=\"text-align: right;\">\n",
       "      <th></th>\n",
       "      <th>update_time</th>\n",
       "      <th>id</th>\n",
       "      <th>title</th>\n",
       "      <th>price</th>\n",
       "      <th>sale_count</th>\n",
       "      <th>comment_count</th>\n",
       "      <th>店名</th>\n",
       "      <th>容量</th>\n",
       "    </tr>\n",
       "  </thead>\n",
       "  <tbody>\n",
       "    <tr>\n",
       "      <th>23687</th>\n",
       "      <td>2016/11/14</td>\n",
       "      <td>A538021608019</td>\n",
       "      <td>【娇兰】 御廷兰花10周年限量版乳霜 XQ向京限量版猴子储蓄罐</td>\n",
       "      <td>11100.0</td>\n",
       "      <td>2.0</td>\n",
       "      <td>2.0</td>\n",
       "      <td>娇兰</td>\n",
       "      <td>10.0</td>\n",
       "    </tr>\n",
       "    <tr>\n",
       "      <th>23712</th>\n",
       "      <td>2016/11/14</td>\n",
       "      <td>A540017992674</td>\n",
       "      <td>【娇兰】帝王之水金箔蜂姿琉金典藏版1L 男士女士香氛 古龙水</td>\n",
       "      <td>10380.0</td>\n",
       "      <td>0.0</td>\n",
       "      <td>0.0</td>\n",
       "      <td>娇兰</td>\n",
       "      <td>1.0</td>\n",
       "    </tr>\n",
       "    <tr>\n",
       "      <th>23771</th>\n",
       "      <td>2016/11/13</td>\n",
       "      <td>A538021608019</td>\n",
       "      <td>【娇兰】 御廷兰花10周年限量版乳霜 XQ向京限量版猴子储蓄罐</td>\n",
       "      <td>11100.0</td>\n",
       "      <td>2.0</td>\n",
       "      <td>2.0</td>\n",
       "      <td>娇兰</td>\n",
       "      <td>10.0</td>\n",
       "    </tr>\n",
       "    <tr>\n",
       "      <th>23852</th>\n",
       "      <td>2016/11/12</td>\n",
       "      <td>A538021608019</td>\n",
       "      <td>【娇兰】 御廷兰花10周年限量版乳霜 XQ向京限量版猴子储蓄罐</td>\n",
       "      <td>11100.0</td>\n",
       "      <td>2.0</td>\n",
       "      <td>2.0</td>\n",
       "      <td>娇兰</td>\n",
       "      <td>10.0</td>\n",
       "    </tr>\n",
       "    <tr>\n",
       "      <th>23933</th>\n",
       "      <td>2016/11/11</td>\n",
       "      <td>A538021608019</td>\n",
       "      <td>娇兰 御廷兰花10周年限量版乳霜 XQ向京限量版猴子储蓄罐</td>\n",
       "      <td>11100.0</td>\n",
       "      <td>2.0</td>\n",
       "      <td>2.0</td>\n",
       "      <td>娇兰</td>\n",
       "      <td>10.0</td>\n",
       "    </tr>\n",
       "    <tr>\n",
       "      <th>23959</th>\n",
       "      <td>2016/11/11</td>\n",
       "      <td>A540017992674</td>\n",
       "      <td>【娇兰盛典】帝王之水金箔蜂姿琉金典藏版1L 男士女士香氛 古龙水</td>\n",
       "      <td>10380.0</td>\n",
       "      <td>0.0</td>\n",
       "      <td>0.0</td>\n",
       "      <td>娇兰</td>\n",
       "      <td>1.0</td>\n",
       "    </tr>\n",
       "    <tr>\n",
       "      <th>24023</th>\n",
       "      <td>2016/11/10</td>\n",
       "      <td>A538021608019</td>\n",
       "      <td>娇兰 御廷兰花10周年限量版乳霜 XQ向京限量版猴子储蓄罐</td>\n",
       "      <td>11100.0</td>\n",
       "      <td>2.0</td>\n",
       "      <td>2.0</td>\n",
       "      <td>娇兰</td>\n",
       "      <td>10.0</td>\n",
       "    </tr>\n",
       "    <tr>\n",
       "      <th>24073</th>\n",
       "      <td>2016/11/10</td>\n",
       "      <td>A540017992674</td>\n",
       "      <td>【娇兰盛典】帝王之水金箔蜂姿琉金典藏版1L 男士女士香氛 古龙水</td>\n",
       "      <td>10380.0</td>\n",
       "      <td>0.0</td>\n",
       "      <td>0.0</td>\n",
       "      <td>娇兰</td>\n",
       "      <td>1.0</td>\n",
       "    </tr>\n",
       "    <tr>\n",
       "      <th>24100</th>\n",
       "      <td>2016/11/10</td>\n",
       "      <td>A540237927657</td>\n",
       "      <td>【娇兰预售】帝王之水金箔蜂姿琉金典藏版香氛1L套装 高端限量</td>\n",
       "      <td>10380.0</td>\n",
       "      <td>0.0</td>\n",
       "      <td>0.0</td>\n",
       "      <td>娇兰</td>\n",
       "      <td>1.0</td>\n",
       "    </tr>\n",
       "    <tr>\n",
       "      <th>24162</th>\n",
       "      <td>2016/11/9</td>\n",
       "      <td>A538021608019</td>\n",
       "      <td>娇兰 御廷兰花10周年限量版乳霜 XQ向京限量版猴子储蓄罐</td>\n",
       "      <td>11100.0</td>\n",
       "      <td>2.0</td>\n",
       "      <td>2.0</td>\n",
       "      <td>娇兰</td>\n",
       "      <td>10.0</td>\n",
       "    </tr>\n",
       "    <tr>\n",
       "      <th>24214</th>\n",
       "      <td>2016/11/9</td>\n",
       "      <td>A540017992674</td>\n",
       "      <td>【娇兰盛典】帝王之水金箔蜂姿琉金典藏版1L 男士女士香氛 古龙水</td>\n",
       "      <td>10380.0</td>\n",
       "      <td>0.0</td>\n",
       "      <td>0.0</td>\n",
       "      <td>娇兰</td>\n",
       "      <td>1.0</td>\n",
       "    </tr>\n",
       "    <tr>\n",
       "      <th>24242</th>\n",
       "      <td>2016/11/9</td>\n",
       "      <td>A540237927657</td>\n",
       "      <td>【娇兰预售】帝王之水金箔蜂姿琉金典藏版香氛1L套装 高端限量</td>\n",
       "      <td>10380.0</td>\n",
       "      <td>0.0</td>\n",
       "      <td>0.0</td>\n",
       "      <td>娇兰</td>\n",
       "      <td>1.0</td>\n",
       "    </tr>\n",
       "    <tr>\n",
       "      <th>24304</th>\n",
       "      <td>2016/11/8</td>\n",
       "      <td>A538021608019</td>\n",
       "      <td>娇兰 御廷兰花10周年限量版乳霜 XQ向京限量版猴子储蓄罐</td>\n",
       "      <td>11100.0</td>\n",
       "      <td>2.0</td>\n",
       "      <td>2.0</td>\n",
       "      <td>娇兰</td>\n",
       "      <td>10.0</td>\n",
       "    </tr>\n",
       "    <tr>\n",
       "      <th>24357</th>\n",
       "      <td>2016/11/8</td>\n",
       "      <td>A540017992674</td>\n",
       "      <td>【娇兰盛典】帝王之水金箔蜂姿琉金典藏版1L 男士女士香氛 古龙水</td>\n",
       "      <td>10380.0</td>\n",
       "      <td>0.0</td>\n",
       "      <td>0.0</td>\n",
       "      <td>娇兰</td>\n",
       "      <td>1.0</td>\n",
       "    </tr>\n",
       "    <tr>\n",
       "      <th>24385</th>\n",
       "      <td>2016/11/8</td>\n",
       "      <td>A540237927657</td>\n",
       "      <td>【娇兰预售】帝王之水金箔蜂姿琉金典藏版香氛1L套装 高端限量</td>\n",
       "      <td>10380.0</td>\n",
       "      <td>0.0</td>\n",
       "      <td>0.0</td>\n",
       "      <td>娇兰</td>\n",
       "      <td>1.0</td>\n",
       "    </tr>\n",
       "    <tr>\n",
       "      <th>24448</th>\n",
       "      <td>2016/11/7</td>\n",
       "      <td>A538021608019</td>\n",
       "      <td>娇兰 御廷兰花10周年限量版乳霜 XQ向京限量版猴子储蓄罐</td>\n",
       "      <td>11100.0</td>\n",
       "      <td>2.0</td>\n",
       "      <td>2.0</td>\n",
       "      <td>娇兰</td>\n",
       "      <td>10.0</td>\n",
       "    </tr>\n",
       "    <tr>\n",
       "      <th>24501</th>\n",
       "      <td>2016/11/7</td>\n",
       "      <td>A540017992674</td>\n",
       "      <td>【娇兰盛典】帝王之水金箔蜂姿琉金典藏版1L 男士女士香氛 古龙水</td>\n",
       "      <td>10380.0</td>\n",
       "      <td>0.0</td>\n",
       "      <td>0.0</td>\n",
       "      <td>娇兰</td>\n",
       "      <td>1.0</td>\n",
       "    </tr>\n",
       "    <tr>\n",
       "      <th>24529</th>\n",
       "      <td>2016/11/7</td>\n",
       "      <td>A540237927657</td>\n",
       "      <td>【娇兰预售】帝王之水金箔蜂姿琉金典藏版香氛1L套装 高端限量</td>\n",
       "      <td>10380.0</td>\n",
       "      <td>0.0</td>\n",
       "      <td>0.0</td>\n",
       "      <td>娇兰</td>\n",
       "      <td>1.0</td>\n",
       "    </tr>\n",
       "    <tr>\n",
       "      <th>24592</th>\n",
       "      <td>2016/11/6</td>\n",
       "      <td>A538021608019</td>\n",
       "      <td>娇兰 御廷兰花10周年限量版乳霜 XQ向京限量版猴子储蓄罐</td>\n",
       "      <td>11100.0</td>\n",
       "      <td>2.0</td>\n",
       "      <td>2.0</td>\n",
       "      <td>娇兰</td>\n",
       "      <td>10.0</td>\n",
       "    </tr>\n",
       "    <tr>\n",
       "      <th>24645</th>\n",
       "      <td>2016/11/6</td>\n",
       "      <td>A540017992674</td>\n",
       "      <td>【娇兰盛典】帝王之水金箔蜂姿琉金典藏版1L 男士女士香氛 古龙水</td>\n",
       "      <td>10380.0</td>\n",
       "      <td>0.0</td>\n",
       "      <td>0.0</td>\n",
       "      <td>娇兰</td>\n",
       "      <td>1.0</td>\n",
       "    </tr>\n",
       "    <tr>\n",
       "      <th>24674</th>\n",
       "      <td>2016/11/6</td>\n",
       "      <td>A540237927657</td>\n",
       "      <td>【娇兰预售】帝王之水金箔蜂姿琉金典藏版香氛1L套装 高端限量</td>\n",
       "      <td>10380.0</td>\n",
       "      <td>0.0</td>\n",
       "      <td>0.0</td>\n",
       "      <td>娇兰</td>\n",
       "      <td>1.0</td>\n",
       "    </tr>\n",
       "    <tr>\n",
       "      <th>24737</th>\n",
       "      <td>2016/11/5</td>\n",
       "      <td>A538021608019</td>\n",
       "      <td>娇兰 御廷兰花10周年限量版乳霜 XQ向京限量版猴子储蓄罐</td>\n",
       "      <td>11100.0</td>\n",
       "      <td>2.0</td>\n",
       "      <td>2.0</td>\n",
       "      <td>娇兰</td>\n",
       "      <td>10.0</td>\n",
       "    </tr>\n",
       "    <tr>\n",
       "      <th>24789</th>\n",
       "      <td>2016/11/5</td>\n",
       "      <td>A540017992674</td>\n",
       "      <td>【娇兰盛典】帝王之水金箔蜂姿琉金典藏版1L 男士女士香氛 古龙水</td>\n",
       "      <td>10380.0</td>\n",
       "      <td>0.0</td>\n",
       "      <td>0.0</td>\n",
       "      <td>娇兰</td>\n",
       "      <td>1.0</td>\n",
       "    </tr>\n",
       "    <tr>\n",
       "      <th>24818</th>\n",
       "      <td>2016/11/5</td>\n",
       "      <td>A540237927657</td>\n",
       "      <td>【娇兰预售】帝王之水金箔蜂姿琉金典藏版香氛1L套装 高端限量</td>\n",
       "      <td>10380.0</td>\n",
       "      <td>0.0</td>\n",
       "      <td>0.0</td>\n",
       "      <td>娇兰</td>\n",
       "      <td>1.0</td>\n",
       "    </tr>\n",
       "  </tbody>\n",
       "</table>\n",
       "</div>"
      ],
      "text/plain": [
       "      update_time             id                             title    price  \\\n",
       "23687  2016/11/14  A538021608019   【娇兰】 御廷兰花10周年限量版乳霜 XQ向京限量版猴子储蓄罐  11100.0   \n",
       "23712  2016/11/14  A540017992674    【娇兰】帝王之水金箔蜂姿琉金典藏版1L 男士女士香氛 古龙水  10380.0   \n",
       "23771  2016/11/13  A538021608019   【娇兰】 御廷兰花10周年限量版乳霜 XQ向京限量版猴子储蓄罐  11100.0   \n",
       "23852  2016/11/12  A538021608019   【娇兰】 御廷兰花10周年限量版乳霜 XQ向京限量版猴子储蓄罐  11100.0   \n",
       "23933  2016/11/11  A538021608019     娇兰 御廷兰花10周年限量版乳霜 XQ向京限量版猴子储蓄罐  11100.0   \n",
       "23959  2016/11/11  A540017992674  【娇兰盛典】帝王之水金箔蜂姿琉金典藏版1L 男士女士香氛 古龙水  10380.0   \n",
       "24023  2016/11/10  A538021608019     娇兰 御廷兰花10周年限量版乳霜 XQ向京限量版猴子储蓄罐  11100.0   \n",
       "24073  2016/11/10  A540017992674  【娇兰盛典】帝王之水金箔蜂姿琉金典藏版1L 男士女士香氛 古龙水  10380.0   \n",
       "24100  2016/11/10  A540237927657    【娇兰预售】帝王之水金箔蜂姿琉金典藏版香氛1L套装 高端限量  10380.0   \n",
       "24162   2016/11/9  A538021608019     娇兰 御廷兰花10周年限量版乳霜 XQ向京限量版猴子储蓄罐  11100.0   \n",
       "24214   2016/11/9  A540017992674  【娇兰盛典】帝王之水金箔蜂姿琉金典藏版1L 男士女士香氛 古龙水  10380.0   \n",
       "24242   2016/11/9  A540237927657    【娇兰预售】帝王之水金箔蜂姿琉金典藏版香氛1L套装 高端限量  10380.0   \n",
       "24304   2016/11/8  A538021608019     娇兰 御廷兰花10周年限量版乳霜 XQ向京限量版猴子储蓄罐  11100.0   \n",
       "24357   2016/11/8  A540017992674  【娇兰盛典】帝王之水金箔蜂姿琉金典藏版1L 男士女士香氛 古龙水  10380.0   \n",
       "24385   2016/11/8  A540237927657    【娇兰预售】帝王之水金箔蜂姿琉金典藏版香氛1L套装 高端限量  10380.0   \n",
       "24448   2016/11/7  A538021608019     娇兰 御廷兰花10周年限量版乳霜 XQ向京限量版猴子储蓄罐  11100.0   \n",
       "24501   2016/11/7  A540017992674  【娇兰盛典】帝王之水金箔蜂姿琉金典藏版1L 男士女士香氛 古龙水  10380.0   \n",
       "24529   2016/11/7  A540237927657    【娇兰预售】帝王之水金箔蜂姿琉金典藏版香氛1L套装 高端限量  10380.0   \n",
       "24592   2016/11/6  A538021608019     娇兰 御廷兰花10周年限量版乳霜 XQ向京限量版猴子储蓄罐  11100.0   \n",
       "24645   2016/11/6  A540017992674  【娇兰盛典】帝王之水金箔蜂姿琉金典藏版1L 男士女士香氛 古龙水  10380.0   \n",
       "24674   2016/11/6  A540237927657    【娇兰预售】帝王之水金箔蜂姿琉金典藏版香氛1L套装 高端限量  10380.0   \n",
       "24737   2016/11/5  A538021608019     娇兰 御廷兰花10周年限量版乳霜 XQ向京限量版猴子储蓄罐  11100.0   \n",
       "24789   2016/11/5  A540017992674  【娇兰盛典】帝王之水金箔蜂姿琉金典藏版1L 男士女士香氛 古龙水  10380.0   \n",
       "24818   2016/11/5  A540237927657    【娇兰预售】帝王之水金箔蜂姿琉金典藏版香氛1L套装 高端限量  10380.0   \n",
       "\n",
       "       sale_count  comment_count  店名    容量  \n",
       "23687         2.0            2.0  娇兰  10.0  \n",
       "23712         0.0            0.0  娇兰   1.0  \n",
       "23771         2.0            2.0  娇兰  10.0  \n",
       "23852         2.0            2.0  娇兰  10.0  \n",
       "23933         2.0            2.0  娇兰  10.0  \n",
       "23959         0.0            0.0  娇兰   1.0  \n",
       "24023         2.0            2.0  娇兰  10.0  \n",
       "24073         0.0            0.0  娇兰   1.0  \n",
       "24100         0.0            0.0  娇兰   1.0  \n",
       "24162         2.0            2.0  娇兰  10.0  \n",
       "24214         0.0            0.0  娇兰   1.0  \n",
       "24242         0.0            0.0  娇兰   1.0  \n",
       "24304         2.0            2.0  娇兰  10.0  \n",
       "24357         0.0            0.0  娇兰   1.0  \n",
       "24385         0.0            0.0  娇兰   1.0  \n",
       "24448         2.0            2.0  娇兰  10.0  \n",
       "24501         0.0            0.0  娇兰   1.0  \n",
       "24529         0.0            0.0  娇兰   1.0  \n",
       "24592         2.0            2.0  娇兰  10.0  \n",
       "24645         0.0            0.0  娇兰   1.0  \n",
       "24674         0.0            0.0  娇兰   1.0  \n",
       "24737         2.0            2.0  娇兰  10.0  \n",
       "24789         0.0            0.0  娇兰   1.0  \n",
       "24818         0.0            0.0  娇兰   1.0  "
      ]
     },
     "execution_count": 101,
     "metadata": {},
     "output_type": "execute_result"
    }
   ],
   "source": [
    "df.loc[df[df['price'] > 10000].index]"
   ]
  },
  {
   "cell_type": "code",
   "execution_count": 103,
   "metadata": {
    "scrolled": true
   },
   "outputs": [
    {
     "data": {
      "text/plain": [
       "1598"
      ]
     },
     "execution_count": 103,
     "metadata": {},
     "output_type": "execute_result"
    }
   ],
   "source": [
    "df.loc[df.容量 >= 200].容量.count()"
   ]
  },
  {
   "cell_type": "code",
   "execution_count": 104,
   "metadata": {
    "scrolled": true
   },
   "outputs": [
    {
     "data": {
      "text/plain": [
       "0        0\n",
       "1        0\n",
       "2        0\n",
       "3        1\n",
       "4        0\n",
       "        ..\n",
       "27593    0\n",
       "27594    0\n",
       "27595    1\n",
       "27596    0\n",
       "27597    0\n",
       "Name: sex, Length: 27520, dtype: int64"
      ]
     },
     "execution_count": 104,
     "metadata": {},
     "output_type": "execute_result"
    }
   ],
   "source": [
    "#转为布尔型，男1 女0\n",
    "df['sex'] = df.title.str.contains('男').astype('int')\n",
    "df['sex']"
   ]
  },
  {
   "cell_type": "code",
   "execution_count": 107,
   "metadata": {},
   "outputs": [],
   "source": [
    "df['day'] = df['update_time'].astype('datetime64[D]')"
   ]
  },
  {
   "cell_type": "code",
   "execution_count": 108,
   "metadata": {},
   "outputs": [
    {
     "data": {
      "text/plain": [
       "0        3713941.0\n",
       "1        1575668.0\n",
       "2        1254132.0\n",
       "3         980590.0\n",
       "4         722244.0\n",
       "           ...    \n",
       "27593          0.0\n",
       "27594          0.0\n",
       "27595          0.0\n",
       "27596          0.0\n",
       "27597          0.0\n",
       "Name: money, Length: 27520, dtype: float64"
      ]
     },
     "execution_count": 108,
     "metadata": {},
     "output_type": "execute_result"
    }
   ],
   "source": [
    "#定义销售额\n",
    "df['money'] = df['price'] *df['sale_count']\n",
    "df['money']"
   ]
  },
  {
   "cell_type": "code",
   "execution_count": 109,
   "metadata": {
    "scrolled": true
   },
   "outputs": [
    {
     "data": {
      "text/html": [
       "<div>\n",
       "<style scoped>\n",
       "    .dataframe tbody tr th:only-of-type {\n",
       "        vertical-align: middle;\n",
       "    }\n",
       "\n",
       "    .dataframe tbody tr th {\n",
       "        vertical-align: top;\n",
       "    }\n",
       "\n",
       "    .dataframe thead th {\n",
       "        text-align: right;\n",
       "    }\n",
       "</style>\n",
       "<table border=\"1\" class=\"dataframe\">\n",
       "  <thead>\n",
       "    <tr style=\"text-align: right;\">\n",
       "      <th></th>\n",
       "      <th>update_time</th>\n",
       "      <th>id</th>\n",
       "      <th>title</th>\n",
       "      <th>price</th>\n",
       "      <th>sale_count</th>\n",
       "      <th>comment_count</th>\n",
       "      <th>店名</th>\n",
       "      <th>容量</th>\n",
       "      <th>sex</th>\n",
       "      <th>money</th>\n",
       "      <th>day</th>\n",
       "    </tr>\n",
       "  </thead>\n",
       "  <tbody>\n",
       "    <tr>\n",
       "      <th>0</th>\n",
       "      <td>2016/11/14</td>\n",
       "      <td>A18164178225</td>\n",
       "      <td>CHANDO/自然堂 雪域精粹纯粹滋润霜50g 补水保湿 滋润水润面霜</td>\n",
       "      <td>139.0</td>\n",
       "      <td>26719.0</td>\n",
       "      <td>2704.0</td>\n",
       "      <td>自然堂</td>\n",
       "      <td>50.0</td>\n",
       "      <td>0</td>\n",
       "      <td>3713941.0</td>\n",
       "      <td>2016-11-14</td>\n",
       "    </tr>\n",
       "    <tr>\n",
       "      <th>1</th>\n",
       "      <td>2016/11/14</td>\n",
       "      <td>A18177105952</td>\n",
       "      <td>CHANDO/自然堂凝时鲜颜肌活乳液120ML 淡化细纹补水滋润专柜正品</td>\n",
       "      <td>194.0</td>\n",
       "      <td>8122.0</td>\n",
       "      <td>1492.0</td>\n",
       "      <td>自然堂</td>\n",
       "      <td>120.0</td>\n",
       "      <td>0</td>\n",
       "      <td>1575668.0</td>\n",
       "      <td>2016-11-14</td>\n",
       "    </tr>\n",
       "    <tr>\n",
       "      <th>2</th>\n",
       "      <td>2016/11/14</td>\n",
       "      <td>A18177226992</td>\n",
       "      <td>CHANDO/自然堂活泉保湿修护精华水（滋润型135ml 补水控油爽肤水</td>\n",
       "      <td>99.0</td>\n",
       "      <td>12668.0</td>\n",
       "      <td>589.0</td>\n",
       "      <td>自然堂</td>\n",
       "      <td>135.0</td>\n",
       "      <td>0</td>\n",
       "      <td>1254132.0</td>\n",
       "      <td>2016-11-14</td>\n",
       "    </tr>\n",
       "    <tr>\n",
       "      <th>3</th>\n",
       "      <td>2016/11/14</td>\n",
       "      <td>A18178033846</td>\n",
       "      <td>CHANDO/自然堂 男士劲爽控油洁面膏 100g 深层清洁  男士洗面奶</td>\n",
       "      <td>38.0</td>\n",
       "      <td>25805.0</td>\n",
       "      <td>4287.0</td>\n",
       "      <td>自然堂</td>\n",
       "      <td>100.0</td>\n",
       "      <td>1</td>\n",
       "      <td>980590.0</td>\n",
       "      <td>2016-11-14</td>\n",
       "    </tr>\n",
       "    <tr>\n",
       "      <th>4</th>\n",
       "      <td>2016/11/14</td>\n",
       "      <td>A18178045259</td>\n",
       "      <td>CHANDO/自然堂雪域精粹纯粹滋润霜（清爽型）50g补水保湿滋润霜</td>\n",
       "      <td>139.0</td>\n",
       "      <td>5196.0</td>\n",
       "      <td>618.0</td>\n",
       "      <td>自然堂</td>\n",
       "      <td>50.0</td>\n",
       "      <td>0</td>\n",
       "      <td>722244.0</td>\n",
       "      <td>2016-11-14</td>\n",
       "    </tr>\n",
       "  </tbody>\n",
       "</table>\n",
       "</div>"
      ],
      "text/plain": [
       "  update_time            id                                  title  price  \\\n",
       "0  2016/11/14  A18164178225    CHANDO/自然堂 雪域精粹纯粹滋润霜50g 补水保湿 滋润水润面霜  139.0   \n",
       "1  2016/11/14  A18177105952   CHANDO/自然堂凝时鲜颜肌活乳液120ML 淡化细纹补水滋润专柜正品  194.0   \n",
       "2  2016/11/14  A18177226992   CHANDO/自然堂活泉保湿修护精华水（滋润型135ml 补水控油爽肤水   99.0   \n",
       "3  2016/11/14  A18178033846  CHANDO/自然堂 男士劲爽控油洁面膏 100g 深层清洁  男士洗面奶   38.0   \n",
       "4  2016/11/14  A18178045259     CHANDO/自然堂雪域精粹纯粹滋润霜（清爽型）50g补水保湿滋润霜  139.0   \n",
       "\n",
       "   sale_count  comment_count   店名     容量  sex      money        day  \n",
       "0     26719.0         2704.0  自然堂   50.0    0  3713941.0 2016-11-14  \n",
       "1      8122.0         1492.0  自然堂  120.0    0  1575668.0 2016-11-14  \n",
       "2     12668.0          589.0  自然堂  135.0    0  1254132.0 2016-11-14  \n",
       "3     25805.0         4287.0  自然堂  100.0    1   980590.0 2016-11-14  \n",
       "4      5196.0          618.0  自然堂   50.0    0   722244.0 2016-11-14  "
      ]
     },
     "execution_count": 109,
     "metadata": {},
     "output_type": "execute_result"
    }
   ],
   "source": [
    "df.head()"
   ]
  },
  {
   "cell_type": "code",
   "execution_count": 110,
   "metadata": {
    "scrolled": true
   },
   "outputs": [
    {
     "data": {
      "text/plain": [
       "<AxesSubplot:title={'center':'sale_amount'}, xlabel='day'>"
      ]
     },
     "execution_count": 110,
     "metadata": {},
     "output_type": "execute_result"
    },
    {
     "data": {
      "image/png": "[encoded data removed]",
      "text/plain": [
       "<Figure size 864x360 with 2 Axes>"
      ]
     },
     "metadata": {
      "needs_background": "light"
     },
     "output_type": "display_data"
    }
   ],
   "source": [
    "df1 = df.groupby(by = 'day').money.sum()\n",
    "df2 = df.groupby(by = 'day').sale_count.sum()\n",
    "fig,axes = plt.subplots(1,2,figsize = (12,5))\n",
    "df1.plot(ax = axes[0], title = 'money', color = 'green')\n",
    "df2.plot(ax = axes[1], title = 'sale_amount', color = 'red')"
   ]
  },
  {
   "cell_type": "code",
   "execution_count": 111,
   "metadata": {},
   "outputs": [
    {
     "data": {
      "text/plain": [
       "['自然堂',\n",
       " '资生堂',\n",
       " '植村秀',\n",
       " '悦诗风吟',\n",
       " '玉兰油',\n",
       " '雅漾',\n",
       " '雅诗兰黛',\n",
       " '雪花秀',\n",
       " '相宜本草',\n",
       " '薇姿',\n",
       " '倩碧',\n",
       " '欧珀莱',\n",
       " '欧莱雅',\n",
       " '妮维雅',\n",
       " '蜜丝佛陀',\n",
       " '美加净',\n",
       " '美宝莲',\n",
       " '兰芝',\n",
       " '兰蔻',\n",
       " '娇兰',\n",
       " '佰草集',\n",
       " 'SKII']"
      ]
     },
     "execution_count": 111,
     "metadata": {},
     "output_type": "execute_result"
    }
   ],
   "source": [
    "#每个品牌的名称\n",
    "label = df['店名'].unique().tolist()\n",
    "label"
   ]
  },
  {
   "cell_type": "code",
   "execution_count": 120,
   "metadata": {},
   "outputs": [
    {
     "data": {
      "text/plain": [
       "<AxesSubplot:xlabel='店名', ylabel='moeny/ten_million'>"
      ]
     },
     "execution_count": 120,
     "metadata": {},
     "output_type": "execute_result"
    },
    {
     "data": {
      "image/png": "[encoded data removed]",
      "text/plain": [
       "<Figure size 1080x576 with 1 Axes>"
      ]
     },
     "metadata": {
      "needs_background": "light"
     },
     "output_type": "display_data"
    }
   ],
   "source": [
    "plt.figure(figsize = (15,8))\n",
    "x = range(22)\n",
    "df3 = df.groupby(by = '店名').money.sum().sort_values(ascending = False)\n",
    "plt.ylabel('moeny/ten_million')\n",
    "plt.xticks(x, label, rotation = 270)\n",
    "df3.plot(kind = 'bar', color = 'green')"
   ]
  },
  {
   "cell_type": "markdown",
   "metadata": {},
   "source": [
    "双十一期间，相宜本草表现最为突出（同时作为国产品牌在各国外品牌中脱颖而出，也着实反映我国当前美妆行业的崛起之势），其次是欧莱雅，二者销售额均突破了五千万元，相宜本草甚至突破了六千万。"
   ]
  },
  {
   "cell_type": "code",
   "execution_count": 121,
   "metadata": {
    "scrolled": true
   },
   "outputs": [
    {
     "data": {
      "text/plain": [
       "10136     A13956982789   相宜本草\n",
       "17078      A24304992630   妮维雅\n",
       "3329      A15578714504   悦诗风吟\n",
       "18418     A14173931801   蜜丝佛陀\n",
       "291        A21625571512   自然堂\n",
       "15093      A18126561629   欧莱雅\n",
       "25278      A35534638562   佰草集\n",
       "21510       A19718764193   兰芝\n",
       "7789      A39488472991   雅诗兰黛\n",
       "6919       A520711852230   雅漾\n",
       "20475      A12727688676   美宝莲\n",
       "22864      A522216409648   兰蔻\n",
       "12064       A35716989604   倩碧\n",
       "9472      A526179402881   雪花秀\n",
       "13921     A521180385991   欧珀莱\n",
       "1589      A527309626674   资生堂\n",
       "19145      A41161996028   美加净\n",
       "11283      A530492987763   薇姿\n",
       "23676      A536510937963   娇兰\n",
       "27401    A521323320042   SKII\n",
       "2513      A528472872135   植村秀\n",
       "6630      A539019157605   玉兰油\n",
       "dtype: object"
      ]
     },
     "execution_count": 121,
     "metadata": {},
     "output_type": "execute_result"
    }
   ],
   "source": [
    "#看一下哪个品牌的产品最受欢迎\n",
    "df6 = df.sort_values('money',ascending = False).groupby('店名').head(1)\n",
    "df6.id + '   ' +df6.店名"
   ]
  },
  {
   "cell_type": "code",
   "execution_count": 128,
   "metadata": {
    "scrolled": true
   },
   "outputs": [
    {
     "data": {
      "text/plain": [
       "Text(0, 0.5, 'moeny/ten_million')"
      ]
     },
     "execution_count": 128,
     "metadata": {},
     "output_type": "execute_result"
    },
    {
     "data": {
      "image/png": "[encoded data removed]",
      "text/plain": [
       "<Figure size 1080x576 with 1 Axes>"
      ]
     },
     "metadata": {
      "needs_background": "light"
     },
     "output_type": "display_data"
    }
   ],
   "source": [
    "#针对客户性别分类\n",
    "df4 = pd.pivot_table(df,index = '店名', columns = 'sex', values = 'money',\n",
    "                     aggfunc = 'sum').fillna(0)\n",
    "df4.plot(kind = 'bar', figsize = (15,8))\n",
    "plt.ylabel('moeny/ten_million')"
   ]
  },
  {
   "cell_type": "code",
   "execution_count": 134,
   "metadata": {},
   "outputs": [
    {
     "ename": "ValueError",
     "evalue": "incomplete format",
     "output_type": "error",
     "traceback": [
      "\u001b[0;31m---------------------------------------------------------------------------\u001b[0m",
      "\u001b[0;31mValueError\u001b[0m                                Traceback (most recent call last)",
      "\u001b[0;32m<ipython-input-134-42dca5f68642>\u001b[0m in \u001b[0;36m<module>\u001b[0;34m\u001b[0m\n\u001b[1;32m      2\u001b[0m \u001b[0mdf6\u001b[0m \u001b[0;34m=\u001b[0m \u001b[0mdf\u001b[0m\u001b[0;34m.\u001b[0m\u001b[0mgroupby\u001b[0m\u001b[0;34m(\u001b[0m\u001b[0mby\u001b[0m \u001b[0;34m=\u001b[0m \u001b[0;34m'sex'\u001b[0m\u001b[0;34m)\u001b[0m\u001b[0;34m.\u001b[0m\u001b[0msex\u001b[0m\u001b[0;34m.\u001b[0m\u001b[0mcount\u001b[0m\u001b[0;34m(\u001b[0m\u001b[0;34m)\u001b[0m\u001b[0;34m\u001b[0m\u001b[0;34m\u001b[0m\u001b[0m\n\u001b[1;32m      3\u001b[0m \u001b[0mfig\u001b[0m\u001b[0;34m,\u001b[0m\u001b[0maxes\u001b[0m \u001b[0;34m=\u001b[0m \u001b[0mplt\u001b[0m\u001b[0;34m.\u001b[0m\u001b[0msubplots\u001b[0m\u001b[0;34m(\u001b[0m\u001b[0;36m1\u001b[0m\u001b[0;34m,\u001b[0m\u001b[0;36m2\u001b[0m\u001b[0;34m,\u001b[0m\u001b[0mfigsize\u001b[0m \u001b[0;34m=\u001b[0m \u001b[0;34m(\u001b[0m\u001b[0;36m10\u001b[0m\u001b[0;34m,\u001b[0m\u001b[0;36m5\u001b[0m\u001b[0;34m)\u001b[0m\u001b[0;34m)\u001b[0m\u001b[0;34m\u001b[0m\u001b[0;34m\u001b[0m\u001b[0m\n\u001b[0;32m----> 4\u001b[0;31m \u001b[0mdf5\u001b[0m\u001b[0;34m.\u001b[0m\u001b[0mplot\u001b[0m\u001b[0;34m(\u001b[0m\u001b[0mkind\u001b[0m \u001b[0;34m=\u001b[0m \u001b[0;34m'pie'\u001b[0m\u001b[0;34m,\u001b[0m \u001b[0mautopct\u001b[0m \u001b[0;34m=\u001b[0m \u001b[0;34m'%.1f%'\u001b[0m\u001b[0;34m,\u001b[0m\u001b[0max\u001b[0m \u001b[0;34m=\u001b[0m \u001b[0maxes\u001b[0m\u001b[0;34m[\u001b[0m\u001b[0;36m0\u001b[0m\u001b[0;34m]\u001b[0m\u001b[0;34m,\u001b[0m \u001b[0mtitle\u001b[0m \u001b[0;34m=\u001b[0m \u001b[0;34m'美妆行业产品不同客户群体带来销售额分布'\u001b[0m\u001b[0;34m,\u001b[0m\u001b[0mcolors\u001b[0m \u001b[0;34m=\u001b[0m \u001b[0;34m[\u001b[0m\u001b[0;34m\"lightskyblue\"\u001b[0m\u001b[0;34m,\u001b[0m\u001b[0;34m\"brown\"\u001b[0m\u001b[0;34m]\u001b[0m\u001b[0;34m)\u001b[0m\u001b[0;34m\u001b[0m\u001b[0;34m\u001b[0m\u001b[0m\n\u001b[0m\u001b[1;32m      5\u001b[0m \u001b[0mdf6\u001b[0m\u001b[0;34m.\u001b[0m\u001b[0mplot\u001b[0m\u001b[0;34m(\u001b[0m\u001b[0mkind\u001b[0m \u001b[0;34m=\u001b[0m \u001b[0;34m'pie'\u001b[0m\u001b[0;34m,\u001b[0m \u001b[0mautopct\u001b[0m \u001b[0;34m=\u001b[0m  \u001b[0;34m'%.1f%'\u001b[0m\u001b[0;34m,\u001b[0m \u001b[0max\u001b[0m\u001b[0;34m=\u001b[0m \u001b[0maxes\u001b[0m\u001b[0;34m[\u001b[0m\u001b[0;36m1\u001b[0m\u001b[0;34m]\u001b[0m\u001b[0;34m,\u001b[0m \u001b[0mtitle\u001b[0m \u001b[0;34m=\u001b[0m \u001b[0;34m'美妆行业产品针对的客户群体分布'\u001b[0m\u001b[0;34m,\u001b[0m\u001b[0mcolors\u001b[0m \u001b[0;34m=\u001b[0m \u001b[0;34m[\u001b[0m\u001b[0;34m\"lightskyblue\"\u001b[0m\u001b[0;34m,\u001b[0m\u001b[0;34m\"brown\"\u001b[0m\u001b[0;34m]\u001b[0m\u001b[0;34m)\u001b[0m\u001b[0;34m\u001b[0m\u001b[0;34m\u001b[0m\u001b[0m\n\u001b[1;32m      6\u001b[0m \u001b[0mplt\u001b[0m\u001b[0;34m.\u001b[0m\u001b[0mlegend\u001b[0m\u001b[0;34m(\u001b[0m\u001b[0;34m)\u001b[0m\u001b[0;34m\u001b[0m\u001b[0;34m\u001b[0m\u001b[0m\n",
      "\u001b[0;32m/opt/anaconda3/lib/python3.8/site-packages/pandas/plotting/_core.py\u001b[0m in \u001b[0;36m__call__\u001b[0;34m(self, *args, **kwargs)\u001b[0m\n\u001b[1;32m    953\u001b[0m                     \u001b[0mdata\u001b[0m\u001b[0;34m.\u001b[0m\u001b[0mcolumns\u001b[0m \u001b[0;34m=\u001b[0m \u001b[0mlabel_name\u001b[0m\u001b[0;34m\u001b[0m\u001b[0;34m\u001b[0m\u001b[0m\n\u001b[1;32m    954\u001b[0m \u001b[0;34m\u001b[0m\u001b[0m\n\u001b[0;32m--> 955\u001b[0;31m         \u001b[0;32mreturn\u001b[0m \u001b[0mplot_backend\u001b[0m\u001b[0;34m.\u001b[0m\u001b[0mplot\u001b[0m\u001b[0;34m(\u001b[0m\u001b[0mdata\u001b[0m\u001b[0;34m,\u001b[0m \u001b[0mkind\u001b[0m\u001b[0;34m=\u001b[0m\u001b[0mkind\u001b[0m\u001b[0;34m,\u001b[0m \u001b[0;34m**\u001b[0m\u001b[0mkwargs\u001b[0m\u001b[0;34m)\u001b[0m\u001b[0;34m\u001b[0m\u001b[0;34m\u001b[0m\u001b[0m\n\u001b[0m\u001b[1;32m    956\u001b[0m \u001b[0;34m\u001b[0m\u001b[0m\n\u001b[1;32m    957\u001b[0m     \u001b[0m__call__\u001b[0m\u001b[0;34m.\u001b[0m\u001b[0m__doc__\u001b[0m \u001b[0;34m=\u001b[0m \u001b[0m__doc__\u001b[0m\u001b[0;34m\u001b[0m\u001b[0;34m\u001b[0m\u001b[0m\n",
      "\u001b[0;32m/opt/anaconda3/lib/python3.8/site-packages/pandas/plotting/_matplotlib/__init__.py\u001b[0m in \u001b[0;36mplot\u001b[0;34m(data, kind, **kwargs)\u001b[0m\n\u001b[1;32m     59\u001b[0m             \u001b[0mkwargs\u001b[0m\u001b[0;34m[\u001b[0m\u001b[0;34m\"ax\"\u001b[0m\u001b[0;34m]\u001b[0m \u001b[0;34m=\u001b[0m \u001b[0mgetattr\u001b[0m\u001b[0;34m(\u001b[0m\u001b[0max\u001b[0m\u001b[0;34m,\u001b[0m \u001b[0;34m\"left_ax\"\u001b[0m\u001b[0;34m,\u001b[0m \u001b[0max\u001b[0m\u001b[0;34m)\u001b[0m\u001b[0;34m\u001b[0m\u001b[0;34m\u001b[0m\u001b[0m\n\u001b[1;32m     60\u001b[0m     \u001b[0mplot_obj\u001b[0m \u001b[0;34m=\u001b[0m \u001b[0mPLOT_CLASSES\u001b[0m\u001b[0;34m[\u001b[0m\u001b[0mkind\u001b[0m\u001b[0;34m]\u001b[0m\u001b[0;34m(\u001b[0m\u001b[0mdata\u001b[0m\u001b[0;34m,\u001b[0m \u001b[0;34m**\u001b[0m\u001b[0mkwargs\u001b[0m\u001b[0;34m)\u001b[0m\u001b[0;34m\u001b[0m\u001b[0;34m\u001b[0m\u001b[0m\n\u001b[0;32m---> 61\u001b[0;31m     \u001b[0mplot_obj\u001b[0m\u001b[0;34m.\u001b[0m\u001b[0mgenerate\u001b[0m\u001b[0;34m(\u001b[0m\u001b[0;34m)\u001b[0m\u001b[0;34m\u001b[0m\u001b[0;34m\u001b[0m\u001b[0m\n\u001b[0m\u001b[1;32m     62\u001b[0m     \u001b[0mplot_obj\u001b[0m\u001b[0;34m.\u001b[0m\u001b[0mdraw\u001b[0m\u001b[0;34m(\u001b[0m\u001b[0;34m)\u001b[0m\u001b[0;34m\u001b[0m\u001b[0;34m\u001b[0m\u001b[0m\n\u001b[1;32m     63\u001b[0m     \u001b[0;32mreturn\u001b[0m \u001b[0mplot_obj\u001b[0m\u001b[0;34m.\u001b[0m\u001b[0mresult\u001b[0m\u001b[0;34m\u001b[0m\u001b[0;34m\u001b[0m\u001b[0m\n",
      "\u001b[0;32m/opt/anaconda3/lib/python3.8/site-packages/pandas/plotting/_matplotlib/core.py\u001b[0m in \u001b[0;36mgenerate\u001b[0;34m(self)\u001b[0m\n\u001b[1;32m    278\u001b[0m         \u001b[0mself\u001b[0m\u001b[0;34m.\u001b[0m\u001b[0m_compute_plot_data\u001b[0m\u001b[0;34m(\u001b[0m\u001b[0;34m)\u001b[0m\u001b[0;34m\u001b[0m\u001b[0;34m\u001b[0m\u001b[0m\n\u001b[1;32m    279\u001b[0m         \u001b[0mself\u001b[0m\u001b[0;34m.\u001b[0m\u001b[0m_setup_subplots\u001b[0m\u001b[0;34m(\u001b[0m\u001b[0;34m)\u001b[0m\u001b[0;34m\u001b[0m\u001b[0;34m\u001b[0m\u001b[0m\n\u001b[0;32m--> 280\u001b[0;31m         \u001b[0mself\u001b[0m\u001b[0;34m.\u001b[0m\u001b[0m_make_plot\u001b[0m\u001b[0;34m(\u001b[0m\u001b[0;34m)\u001b[0m\u001b[0;34m\u001b[0m\u001b[0;34m\u001b[0m\u001b[0m\n\u001b[0m\u001b[1;32m    281\u001b[0m         \u001b[0mself\u001b[0m\u001b[0;34m.\u001b[0m\u001b[0m_add_table\u001b[0m\u001b[0;34m(\u001b[0m\u001b[0;34m)\u001b[0m\u001b[0;34m\u001b[0m\u001b[0;34m\u001b[0m\u001b[0m\n\u001b[1;32m    282\u001b[0m         \u001b[0mself\u001b[0m\u001b[0;34m.\u001b[0m\u001b[0m_make_legend\u001b[0m\u001b[0;34m(\u001b[0m\u001b[0;34m)\u001b[0m\u001b[0;34m\u001b[0m\u001b[0;34m\u001b[0m\u001b[0m\n",
      "\u001b[0;32m/opt/anaconda3/lib/python3.8/site-packages/pandas/plotting/_matplotlib/core.py\u001b[0m in \u001b[0;36m_make_plot\u001b[0;34m(self)\u001b[0m\n\u001b[1;32m   1581\u001b[0m                 \u001b[0;31m# type \"List[Any]\")  [assignment]\u001b[0m\u001b[0;34m\u001b[0m\u001b[0;34m\u001b[0m\u001b[0;34m\u001b[0m\u001b[0m\n\u001b[1;32m   1582\u001b[0m                 \u001b[0mblabels\u001b[0m \u001b[0;34m=\u001b[0m \u001b[0;32mNone\u001b[0m  \u001b[0;31m# type: ignore[assignment]\u001b[0m\u001b[0;34m\u001b[0m\u001b[0;34m\u001b[0m\u001b[0m\n\u001b[0;32m-> 1583\u001b[0;31m             \u001b[0mresults\u001b[0m \u001b[0;34m=\u001b[0m \u001b[0max\u001b[0m\u001b[0;34m.\u001b[0m\u001b[0mpie\u001b[0m\u001b[0;34m(\u001b[0m\u001b[0my\u001b[0m\u001b[0;34m,\u001b[0m \u001b[0mlabels\u001b[0m\u001b[0;34m=\u001b[0m\u001b[0mblabels\u001b[0m\u001b[0;34m,\u001b[0m \u001b[0;34m**\u001b[0m\u001b[0mkwds\u001b[0m\u001b[0;34m)\u001b[0m\u001b[0;34m\u001b[0m\u001b[0;34m\u001b[0m\u001b[0m\n\u001b[0m\u001b[1;32m   1584\u001b[0m \u001b[0;34m\u001b[0m\u001b[0m\n\u001b[1;32m   1585\u001b[0m             \u001b[0;32mif\u001b[0m \u001b[0mkwds\u001b[0m\u001b[0;34m.\u001b[0m\u001b[0mget\u001b[0m\u001b[0;34m(\u001b[0m\u001b[0;34m\"autopct\"\u001b[0m\u001b[0;34m,\u001b[0m \u001b[0;32mNone\u001b[0m\u001b[0;34m)\u001b[0m \u001b[0;32mis\u001b[0m \u001b[0;32mnot\u001b[0m \u001b[0;32mNone\u001b[0m\u001b[0;34m:\u001b[0m\u001b[0;34m\u001b[0m\u001b[0;34m\u001b[0m\u001b[0m\n",
      "\u001b[0;32m/opt/anaconda3/lib/python3.8/site-packages/matplotlib/__init__.py\u001b[0m in \u001b[0;36minner\u001b[0;34m(ax, data, *args, **kwargs)\u001b[0m\n\u001b[1;32m   1436\u001b[0m     \u001b[0;32mdef\u001b[0m \u001b[0minner\u001b[0m\u001b[0;34m(\u001b[0m\u001b[0max\u001b[0m\u001b[0;34m,\u001b[0m \u001b[0;34m*\u001b[0m\u001b[0margs\u001b[0m\u001b[0;34m,\u001b[0m \u001b[0mdata\u001b[0m\u001b[0;34m=\u001b[0m\u001b[0;32mNone\u001b[0m\u001b[0;34m,\u001b[0m \u001b[0;34m**\u001b[0m\u001b[0mkwargs\u001b[0m\u001b[0;34m)\u001b[0m\u001b[0;34m:\u001b[0m\u001b[0;34m\u001b[0m\u001b[0;34m\u001b[0m\u001b[0m\n\u001b[1;32m   1437\u001b[0m         \u001b[0;32mif\u001b[0m \u001b[0mdata\u001b[0m \u001b[0;32mis\u001b[0m \u001b[0;32mNone\u001b[0m\u001b[0;34m:\u001b[0m\u001b[0;34m\u001b[0m\u001b[0;34m\u001b[0m\u001b[0m\n\u001b[0;32m-> 1438\u001b[0;31m             \u001b[0;32mreturn\u001b[0m \u001b[0mfunc\u001b[0m\u001b[0;34m(\u001b[0m\u001b[0max\u001b[0m\u001b[0;34m,\u001b[0m \u001b[0;34m*\u001b[0m\u001b[0mmap\u001b[0m\u001b[0;34m(\u001b[0m\u001b[0msanitize_sequence\u001b[0m\u001b[0;34m,\u001b[0m \u001b[0margs\u001b[0m\u001b[0;34m)\u001b[0m\u001b[0;34m,\u001b[0m \u001b[0;34m**\u001b[0m\u001b[0mkwargs\u001b[0m\u001b[0;34m)\u001b[0m\u001b[0;34m\u001b[0m\u001b[0;34m\u001b[0m\u001b[0m\n\u001b[0m\u001b[1;32m   1439\u001b[0m \u001b[0;34m\u001b[0m\u001b[0m\n\u001b[1;32m   1440\u001b[0m         \u001b[0mbound\u001b[0m \u001b[0;34m=\u001b[0m \u001b[0mnew_sig\u001b[0m\u001b[0;34m.\u001b[0m\u001b[0mbind\u001b[0m\u001b[0;34m(\u001b[0m\u001b[0max\u001b[0m\u001b[0;34m,\u001b[0m \u001b[0;34m*\u001b[0m\u001b[0margs\u001b[0m\u001b[0;34m,\u001b[0m \u001b[0;34m**\u001b[0m\u001b[0mkwargs\u001b[0m\u001b[0;34m)\u001b[0m\u001b[0;34m\u001b[0m\u001b[0;34m\u001b[0m\u001b[0m\n",
      "\u001b[0;32m/opt/anaconda3/lib/python3.8/site-packages/matplotlib/axes/_axes.py\u001b[0m in \u001b[0;36mpie\u001b[0;34m(self, x, explode, labels, colors, autopct, pctdistance, shadow, labeldistance, startangle, radius, counterclock, wedgeprops, textprops, center, frame, rotatelabels, normalize)\u001b[0m\n\u001b[1;32m   3103\u001b[0m                 \u001b[0myt\u001b[0m \u001b[0;34m=\u001b[0m \u001b[0my\u001b[0m \u001b[0;34m+\u001b[0m \u001b[0mpctdistance\u001b[0m \u001b[0;34m*\u001b[0m \u001b[0mradius\u001b[0m \u001b[0;34m*\u001b[0m \u001b[0mmath\u001b[0m\u001b[0;34m.\u001b[0m\u001b[0msin\u001b[0m\u001b[0;34m(\u001b[0m\u001b[0mthetam\u001b[0m\u001b[0;34m)\u001b[0m\u001b[0;34m\u001b[0m\u001b[0;34m\u001b[0m\u001b[0m\n\u001b[1;32m   3104\u001b[0m                 \u001b[0;32mif\u001b[0m \u001b[0misinstance\u001b[0m\u001b[0;34m(\u001b[0m\u001b[0mautopct\u001b[0m\u001b[0;34m,\u001b[0m \u001b[0mstr\u001b[0m\u001b[0;34m)\u001b[0m\u001b[0;34m:\u001b[0m\u001b[0;34m\u001b[0m\u001b[0;34m\u001b[0m\u001b[0m\n\u001b[0;32m-> 3105\u001b[0;31m                     \u001b[0ms\u001b[0m \u001b[0;34m=\u001b[0m \u001b[0mautopct\u001b[0m \u001b[0;34m%\u001b[0m \u001b[0;34m(\u001b[0m\u001b[0;36m100.\u001b[0m \u001b[0;34m*\u001b[0m \u001b[0mfrac\u001b[0m\u001b[0;34m)\u001b[0m\u001b[0;34m\u001b[0m\u001b[0;34m\u001b[0m\u001b[0m\n\u001b[0m\u001b[1;32m   3106\u001b[0m                 \u001b[0;32melif\u001b[0m \u001b[0mcallable\u001b[0m\u001b[0;34m(\u001b[0m\u001b[0mautopct\u001b[0m\u001b[0;34m)\u001b[0m\u001b[0;34m:\u001b[0m\u001b[0;34m\u001b[0m\u001b[0;34m\u001b[0m\u001b[0m\n\u001b[1;32m   3107\u001b[0m                     \u001b[0ms\u001b[0m \u001b[0;34m=\u001b[0m \u001b[0mautopct\u001b[0m\u001b[0;34m(\u001b[0m\u001b[0;36m100.\u001b[0m \u001b[0;34m*\u001b[0m \u001b[0mfrac\u001b[0m\u001b[0;34m)\u001b[0m\u001b[0;34m\u001b[0m\u001b[0;34m\u001b[0m\u001b[0m\n",
      "\u001b[0;31mValueError\u001b[0m: incomplete format"
     ]
    },
    {
     "data": {
      "image/png": "[encoded data removed]",
      "text/plain": [
       "<Figure size 720x360 with 2 Axes>"
      ]
     },
     "metadata": {
      "needs_background": "light"
     },
     "output_type": "display_data"
    }
   ],
   "source": [
    "df5 = df.groupby(by = 'sex').money.sum()\n",
    "df6 = df.groupby(by = 'sex').sex.count()\n",
    "fig,axes = plt.subplots(1,2,figsize = (10,5))\n",
    "df5.plot(kind = 'pie', autopct = '%.1f%',ax = axes[0], title = '美妆行业产品不同客户群体带来销售额分布',colors = [\"lightskyblue\",\"brown\"])\n",
    "df6.plot(kind = 'pie', autopct =  '%.1f%', ax= axes[1], title = '美妆行业产品针对的客户群体分布',colors = [\"lightskyblue\",\"brown\"])\n",
    "plt.legend()\n",
    "plt.show()"
   ]
  },
  {
   "cell_type": "code",
   "execution_count": null,
   "metadata": {},
   "outputs": [],
   "source": []
  }
 ],
 "metadata": {
  "kernelspec": {
   "display_name": "Python 3",
   "language": "python",
   "name": "python3"
  },
  "language_info": {
   "codemirror_mode": {
    "name": "ipython",
    "version": 3
   },
   "file_extension": ".py",
   "mimetype": "text/x-python",
   "name": "python",
   "nbconvert_exporter": "python",
   "pygments_lexer": "ipython3",
   "version": "3.8.5"
  }
 },
 "nbformat": 4,
 "nbformat_minor": 4
}
